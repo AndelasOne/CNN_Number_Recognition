{
 "cells": [
  {
   "cell_type": "markdown",
   "metadata": {},
   "source": [
    "# Number Recognition"
   ]
  },
  {
   "cell_type": "code",
   "execution_count": 15,
   "metadata": {},
   "outputs": [],
   "source": [
    "import numpy as np\n",
    "import matplotlib.pyplot as plt\n",
    "%matplotlib inline\n",
    "from sklearn.datasets import load_digits\n",
    "from sklearn.model_selection import train_test_split"
   ]
  },
  {
   "cell_type": "markdown",
   "metadata": {},
   "source": [
    "## Import Data"
   ]
  },
  {
   "cell_type": "code",
   "execution_count": 16,
   "metadata": {},
   "outputs": [],
   "source": [
    "number_data = load_digits()"
   ]
  },
  {
   "cell_type": "code",
   "execution_count": 17,
   "metadata": {},
   "outputs": [
    {
     "data": {
      "text/plain": [
       "(1797, 8, 8)"
      ]
     },
     "execution_count": 17,
     "metadata": {},
     "output_type": "execute_result"
    }
   ],
   "source": [
    "number_data.images.shape"
   ]
  },
  {
   "cell_type": "code",
   "execution_count": 18,
   "metadata": {},
   "outputs": [
    {
     "data": {
      "image/png": "[encoded data removed]",
      "text/plain": [
       "<Figure size 432x288 with 1 Axes>"
      ]
     },
     "metadata": {
      "needs_background": "light"
     },
     "output_type": "display_data"
    }
   ],
   "source": [
    "img = number_data.images[0]\n",
    "label = number_data.target[0]\n",
    "\n",
    "plt.imshow(img, cmap='gray')\n",
    "plt.title(f'First Number: {label}')\n",
    "plt.show()"
   ]
  },
  {
   "cell_type": "code",
   "execution_count": 19,
   "metadata": {},
   "outputs": [
    {
     "name": "stdout",
     "output_type": "stream",
     "text": [
      "Array of Image:\n",
      "[[ 0.  0.  5. 13.  9.  1.  0.  0.]\n",
      " [ 0.  0. 13. 15. 10. 15.  5.  0.]\n",
      " [ 0.  3. 15.  2.  0. 11.  8.  0.]\n",
      " [ 0.  4. 12.  0.  0.  8.  8.  0.]\n",
      " [ 0.  5.  8.  0.  0.  9.  8.  0.]\n",
      " [ 0.  4. 11.  0.  1. 12.  7.  0.]\n",
      " [ 0.  2. 14.  5. 10. 12.  0.  0.]\n",
      " [ 0.  0.  6. 13. 10.  0.  0.  0.]]\n",
      "Target/Label of Image: 0\n",
      "Number of Images: 1797\n"
     ]
    }
   ],
   "source": [
    "# 8x8 digit Image\n",
    "print(\"Array of Image:\")\n",
    "print(img)\n",
    "\n",
    "print(f\"Target/Label of Image: {label}\")\n",
    "\n",
    "# Length of Dataset\n",
    "print(f\"Number of Images: {len(number_data.images)}\")"
   ]
  },
  {
   "cell_type": "code",
   "execution_count": 20,
   "metadata": {},
   "outputs": [
    {
     "data": {
      "image/png": "[encoded data removed]",
      "text/plain": [
       "<Figure size 1440x1440 with 15 Axes>"
      ]
     },
     "metadata": {
      "needs_background": "light"
     },
     "output_type": "display_data"
    }
   ],
   "source": [
    "images_and_labels=list(zip(number_data.images,number_data.target))\n",
    "plt.figure(figsize=(20,20))\n",
    "for index,(image,label) in enumerate(images_and_labels[:15]):\n",
    "    plt.subplot(3,5,index+1)\n",
    "    plt.axis('off')\n",
    "    plt.imshow(image,cmap=\"gray_r\")\n",
    "    plt.title('%i' % label, fontsize=40)"
   ]
  },
  {
   "cell_type": "markdown",
   "metadata": {},
   "source": [
    "## Definition of Variables"
   ]
  },
  {
   "cell_type": "code",
   "execution_count": 21,
   "metadata": {},
   "outputs": [
    {
     "name": "stdout",
     "output_type": "stream",
     "text": [
      "Number of samples in the data set is :1797\n",
      "Shape of input matrix x is : (1797, 64)\n",
      "Shape of target vector y is :(1797,)\n"
     ]
    }
   ],
   "source": [
    "# Number of samples in the data set\n",
    "n_samples=len(number_data.images)\n",
    "print(\"Number of samples in the data set is :\"+ str(n_samples))\n",
    "\n",
    "x=number_data.images.reshape((n_samples,-1))\n",
    "print(\"Shape of input matrix x is : \"+ str(x.shape))\n",
    "\n",
    "y=number_data.target\n",
    "print(\"Shape of target vector y is :\"+ str(y.shape))\n"
   ]
  },
  {
   "cell_type": "markdown",
   "metadata": {},
   "source": [
    "## Split Training and Test Data"
   ]
  },
  {
   "cell_type": "code",
   "execution_count": 22,
   "metadata": {},
   "outputs": [],
   "source": [
    "# x: images, y: labels\n",
    "X_train, X_test, y_train, y_test = train_test_split(x, y, test_size = 0.2, random_state = 0)"
   ]
  },
  {
   "cell_type": "code",
   "execution_count": 23,
   "metadata": {},
   "outputs": [
    {
     "data": {
      "text/plain": [
       "1797"
      ]
     },
     "execution_count": 23,
     "metadata": {},
     "output_type": "execute_result"
    }
   ],
   "source": [
    "len(y_test) + len(y_train)"
   ]
  },
  {
   "cell_type": "markdown",
   "metadata": {},
   "source": [
    "## Feature Scaling"
   ]
  },
  {
   "cell_type": "markdown",
   "metadata": {},
   "source": [
    "### Normalisation\n",
    "Normalisation, also known as min-max scaling, is a scaling technique whereby the values in a column are shifted so that they are bounded between a fixed range of 0 and 1.\n",
    "\n",
    "### Standardisation\n",
    "On the other hand, standardisation or Z-score normalisation is another scaling technique whereby the values in a column are rescaled so that they demonstrate the properties of a standard Gaussian distribution, that is mean = 0 and variance = 1.\n",
    "\n",
    "Standardisation is generally preferred over normalisation in most machine learning context as it is especially important when comparing the similarities between features based on certain distance measures."
   ]
  },
  {
   "cell_type": "markdown",
   "metadata": {},
   "source": [
    "### Standard Scaler \n",
    "Rescales data so that they are distributed around the mean of 0."
   ]
  },
  {
   "cell_type": "code",
   "execution_count": 24,
   "metadata": {},
   "outputs": [
    {
     "data": {
      "text/plain": [
       "(1437, 64)"
      ]
     },
     "execution_count": 24,
     "metadata": {},
     "output_type": "execute_result"
    }
   ],
   "source": [
    "X_train.shape"
   ]
  },
  {
   "cell_type": "code",
   "execution_count": 25,
   "metadata": {},
   "outputs": [
    {
     "data": {
      "text/plain": [
       "array([[ 0.,  0.,  0., ..., 16., 16.,  6.],\n",
       "       [ 0.,  3., 12., ..., 16.,  2.,  0.],\n",
       "       [ 0.,  1., 10., ...,  0.,  0.,  0.],\n",
       "       ...,\n",
       "       [ 0.,  0.,  5., ...,  0.,  0.,  0.],\n",
       "       [ 0.,  0.,  4., ...,  0.,  0.,  0.],\n",
       "       [ 0.,  0.,  6., ..., 11.,  0.,  0.]])"
      ]
     },
     "execution_count": 25,
     "metadata": {},
     "output_type": "execute_result"
    }
   ],
   "source": [
    "X_train"
   ]
  },
  {
   "cell_type": "code",
   "execution_count": 26,
   "metadata": {},
   "outputs": [],
   "source": [
    "from sklearn.preprocessing import StandardScaler\n",
    "sc = StandardScaler()\n",
    "X_train = sc.fit_transform(X_train) #fit data, then transform it\n",
    "X_test = sc.transform(X_test) # already fitted with train data, only transform test data"
   ]
  },
  {
   "cell_type": "code",
   "execution_count": 27,
   "metadata": {},
   "outputs": [
    {
     "data": {
      "text/plain": [
       "(360, 64)"
      ]
     },
     "execution_count": 27,
     "metadata": {},
     "output_type": "execute_result"
    }
   ],
   "source": [
    "X_test.shape"
   ]
  },
  {
   "cell_type": "markdown",
   "metadata": {},
   "source": [
    "## Convert training example to colom vector"
   ]
  },
  {
   "cell_type": "code",
   "execution_count": 28,
   "metadata": {},
   "outputs": [],
   "source": [
    "X_train=X_train.T\n",
    "X_test=X_test.T"
   ]
  },
  {
   "cell_type": "code",
   "execution_count": 29,
   "metadata": {},
   "outputs": [
    {
     "data": {
      "text/plain": [
       "array([[ 0.        ,  0.        ,  0.        , ...,  0.        ,\n",
       "         0.        ,  0.        ],\n",
       "       [-0.33790435,  2.90642897,  0.74354009, ..., -0.33790435,\n",
       "        -0.33790435, -0.33790435],\n",
       "       [-1.09141592,  1.41696421,  0.99890086, ..., -0.04625753,\n",
       "        -0.25528921,  0.16277415],\n",
       "       ...,\n",
       "       [ 1.58325794,  1.58325794, -1.14493411, ..., -1.14493411,\n",
       "        -1.14493411,  0.73069792],\n",
       "       [ 3.53125595,  0.00595786, -0.49765616, ..., -0.49765616,\n",
       "        -0.49765616, -0.49765616],\n",
       "       [ 3.30213343, -0.18695903, -0.18695903, ..., -0.18695903,\n",
       "        -0.18695903, -0.18695903]])"
      ]
     },
     "execution_count": 29,
     "metadata": {},
     "output_type": "execute_result"
    }
   ],
   "source": [
    "X_train"
   ]
  },
  {
   "cell_type": "code",
   "execution_count": 30,
   "metadata": {},
   "outputs": [],
   "source": [
    "y_train=y_train.reshape(y_train.shape[0],1)\n",
    "y_test=y_test.reshape(y_test.shape[0],1)\n",
    "y_train=y_train.T\n",
    "y_test=y_test.T"
   ]
  },
  {
   "cell_type": "code",
   "execution_count": 31,
   "metadata": {},
   "outputs": [
    {
     "data": {
      "text/plain": [
       "(1, 1437)"
      ]
     },
     "execution_count": 31,
     "metadata": {},
     "output_type": "execute_result"
    }
   ],
   "source": [
    "y_train.shape"
   ]
  },
  {
   "cell_type": "markdown",
   "metadata": {},
   "source": [
    "## Reshape the converting and testing data to the shape 10,1\n",
    "* Output of model has 10 units (0-9)\n",
    "* index with the highest prediction will represent the predicted number"
   ]
  },
  {
   "cell_type": "code",
   "execution_count": 32,
   "metadata": {},
   "outputs": [],
   "source": [
    "Y_train_=np.zeros((10,y_train.shape[1]))\n",
    "for i in range(y_train.shape[1]):\n",
    "    Y_train_[y_train[0,i],i]=1\n",
    "    \n",
    "Y_test_=np.zeros((10,y_test.shape[1]))\n",
    "for i in range(y_test.shape[1]):\n",
    "    Y_test_[y_test[0,i],i]=1"
   ]
  },
  {
   "cell_type": "code",
   "execution_count": 33,
   "metadata": {},
   "outputs": [
    {
     "data": {
      "text/plain": [
       "(10, 1437)"
      ]
     },
     "execution_count": 33,
     "metadata": {},
     "output_type": "execute_result"
    }
   ],
   "source": [
    "Y_train_.shape"
   ]
  },
  {
   "cell_type": "code",
   "execution_count": 34,
   "metadata": {},
   "outputs": [],
   "source": [
    "n_x=X_train.shape[0]\n",
    "n_h=10\n",
    "n_y=Y_train_.shape[0]"
   ]
  },
  {
   "cell_type": "markdown",
   "metadata": {},
   "source": [
    "## Implementation of Neuronal Network"
   ]
  },
  {
   "cell_type": "code",
   "execution_count": 35,
   "metadata": {},
   "outputs": [],
   "source": [
    "# initialize parameters for deep neural networks\n",
    "def initialize_parameters_deep(layer_dims):\n",
    "    \"\"\"initializes parameter of convolutional neuronal network\n",
    "    W: weights\n",
    "    b: bias\n",
    "\n",
    "    Args:\n",
    "        layer_dims (list): [input features, hidden features per layer, hidden layers, output features] \n",
    "\n",
    "    Returns:\n",
    "        dict: parametes\n",
    "    \"\"\"\n",
    "    np.random.seed(3) #random initialization\n",
    "    parameters = {}\n",
    "    L = len(layer_dims) \n",
    "    for l in range(1, L):\n",
    "        parameters['W' + str(l)] = np.random.randn(layer_dims[l],layer_dims[l-1])*0.01 # matrix lx(l-1)\n",
    "        parameters['b' + str(l)] = np.zeros((layer_dims[l],1))\n",
    "        \n",
    "        assert(parameters['W' + str(l)].shape == (layer_dims[l], layer_dims[l-1]))\n",
    "        assert(parameters['b' + str(l)].shape == (layer_dims[l], 1))\n",
    "    return parameters"
   ]
  },
  {
   "cell_type": "code",
   "execution_count": 36,
   "metadata": {},
   "outputs": [],
   "source": [
    "para = initialize_parameters_deep([64,60,10])"
   ]
  },
  {
   "cell_type": "code",
   "execution_count": 37,
   "metadata": {},
   "outputs": [
    {
     "data": {
      "text/plain": [
       "dict_keys(['W1', 'b1', 'W2', 'b2'])"
      ]
     },
     "execution_count": 37,
     "metadata": {},
     "output_type": "execute_result"
    }
   ],
   "source": [
    "para.keys()"
   ]
  },
  {
   "cell_type": "code",
   "execution_count": 38,
   "metadata": {},
   "outputs": [],
   "source": [
    "def linear_forward(A, W, b):\n",
    "    \"\"\" Forward propagation without activation for a single layer\n",
    "    \"\"\"\n",
    "    Z = np.dot(W,A)+b\n",
    "    assert(Z.shape == (W.shape[0], A.shape[1]))\n",
    "    cache = (A, W, b)\n",
    "    \n",
    "    return Z, cache"
   ]
  },
  {
   "cell_type": "code",
   "execution_count": 39,
   "metadata": {},
   "outputs": [],
   "source": [
    "# use ful activation functions and their derivatives\n",
    "def sigmoid_(Z):\n",
    "    return 1/(1+np.exp(-Z))\n",
    "\n",
    "def relu_(Z):\n",
    "    return Z*(Z>0)\n",
    "\n",
    "def drelu_(Z):\n",
    "    return 1. *(Z>0)\n",
    "\n",
    "def dsigmoid_(Z):\n",
    "    return sigmoid_(Z)*(1-sigmoid_(Z))\n",
    "\n",
    "def sigmoid(Z):\n",
    "    return sigmoid_(Z),Z\n",
    "\n",
    "def relu(Z):\n",
    "    return relu_(Z),Z"
   ]
  },
  {
   "cell_type": "code",
   "execution_count": 40,
   "metadata": {},
   "outputs": [],
   "source": [
    "def linear_activation_forward(A_prev,W,b,activation):\n",
    "    \"\"\"Forward propagation with activation for a single layer: \n",
    "    If the type of activation is sigmoid, it performs sigmoid activation function else performs relu activation function.\n",
    "    \"\"\"\n",
    "    if activation == \"sigmoid\":\n",
    "        Z, linear_cache = linear_forward(A_prev,W,b)\n",
    "        A, activation_cache = sigmoid(Z)\n",
    "        \n",
    "    elif activation == \"relu\":\n",
    "        Z, linear_cache = linear_forward(A_prev,W,b)\n",
    "        A, activation_cache = relu(Z)\n",
    "        \n",
    "    assert (A.shape == (W.shape[0], A_prev.shape[1]))\n",
    "    cache = (linear_cache, activation_cache)\n",
    "    \n",
    "    return A, cache"
   ]
  },
  {
   "cell_type": "code",
   "execution_count": 41,
   "metadata": {},
   "outputs": [],
   "source": [
    "# implementation of forward propogation for L layer neural network\n",
    "def L_model_forward(X, parameters):\n",
    "    \"\"\"Output the final predicted vector of the output layer and some cache information\n",
    "\n",
    "    chache: information which is used for backpropagation\n",
    "\n",
    "    Returns:\n",
    "        touple: AL, caches\n",
    "    \"\"\"\n",
    "    caches = []\n",
    "    A = X\n",
    "    L = len(parameters) // 2   \n",
    "    # For the first L-1 layers, we use relu as activation function and for the last layer, we use sigmoid activation function\n",
    "    for l in range(1, L):\n",
    "        A_prev = A \n",
    "        A, cache = linear_activation_forward(A_prev,parameters['W'+str(l)],parameters['b'+str(l)],\"relu\")\n",
    "        caches.append(cache)\n",
    "    AL, cache = linear_activation_forward(A,parameters['W'+str(L)],parameters['b'+str(L)],\"sigmoid\")\n",
    "    caches.append(cache)\n",
    "    #assert(AL.shape == (1,X.shape[1]))\n",
    "    return AL, caches"
   ]
  },
  {
   "cell_type": "code",
   "execution_count": 42,
   "metadata": {},
   "outputs": [],
   "source": [
    "# cost function\n",
    "def compute_cost(AL, Y):\n",
    "    m=Y.shape[1]\n",
    "    cost = -(1/m)*np.sum((Y*np.log(AL)+(1-Y)*np.log(1-AL)))\n",
    "    cost=np.squeeze(cost)\n",
    "    assert(cost.shape == ())\n",
    "    return cost"
   ]
  },
  {
   "cell_type": "markdown",
   "metadata": {},
   "source": [
    "## Back Propagation"
   ]
  },
  {
   "cell_type": "code",
   "execution_count": 43,
   "metadata": {},
   "outputs": [],
   "source": [
    "def linear_backward(dZ, cache):\n",
    "    A_prev, W, b = cache\n",
    "    m = A_prev.shape[1]\n",
    "    dW = (1/m)*np.dot(dZ,A_prev.T)\n",
    "    db = (1/m)*np.sum(dZ,axis=1,keepdims=True)\n",
    "    dA_prev = np.dot(W.T,dZ)\n",
    "    \n",
    "    assert (dA_prev.shape == A_prev.shape)\n",
    "    assert (dW.shape == W.shape)\n",
    "    assert (db.shape == b.shape)\n",
    "    \n",
    "    return dA_prev, dW, db"
   ]
  },
  {
   "cell_type": "code",
   "execution_count": 44,
   "metadata": {},
   "outputs": [],
   "source": [
    "def relu_backward(dA,activation_cache):\n",
    "    return dA* drelu_(activation_cache)"
   ]
  },
  {
   "cell_type": "code",
   "execution_count": 45,
   "metadata": {},
   "outputs": [],
   "source": [
    "def sigmoid_backward(dA,activation_cache):\n",
    "    return dA* dsigmoid_(activation_cache)"
   ]
  },
  {
   "cell_type": "code",
   "execution_count": 46,
   "metadata": {},
   "outputs": [],
   "source": [
    "def linear_activation_backward(dA, cache, activation):\n",
    "    linear_cache, activation_cache = cache\n",
    "    if activation == \"relu\":\n",
    "        dZ = relu_backward(dA,activation_cache)\n",
    "        dA_prev, dW, db = linear_backward(dZ,linear_cache)\n",
    "    \n",
    "    elif activation == \"sigmoid\":\n",
    "        dZ = sigmoid_backward(dA,activation_cache)\n",
    "        dA_prev, dW, db = linear_backward(dZ,linear_cache)\n",
    "    return dA_prev,dW,db"
   ]
  },
  {
   "cell_type": "code",
   "execution_count": 47,
   "metadata": {},
   "outputs": [],
   "source": [
    "# back propogation for L layers\n",
    "def L_model_backward(AL, Y, caches):\n",
    "    grads = {}\n",
    "    L = len(caches)\n",
    "    m = AL.shape[1]\n",
    "    #Y = Y.reshape(AL.shape)\n",
    "    \n",
    "    dAL = - (np.divide(Y, AL) - np.divide(1 - Y, 1 - AL))\n",
    "    \n",
    "    current_cache = caches[L-1]\n",
    "    grads[\"dA\" + str(L-1)], grads[\"dW\" + str(L)], grads[\"db\" + str(L)] = linear_activation_backward(dAL,current_cache,\"sigmoid\")\n",
    "    \n",
    "    for l in reversed(range(L-1)):\n",
    "        current_cache = caches[l]\n",
    "        dA_prev_temp, dW_temp, db_temp = linear_activation_backward(grads[\"dA\"+str(l+1)],current_cache,\"relu\")\n",
    "        grads[\"dA\" + str(l)] = dA_prev_temp\n",
    "        grads[\"dW\" + str(l + 1)] = dW_temp\n",
    "        grads[\"db\" + str(l + 1)] = db_temp\n",
    "    return grads"
   ]
  },
  {
   "cell_type": "markdown",
   "metadata": {},
   "source": [
    "Here dA is the derivative of one particular layer’s activation. The linear_activaton_backward function takes dA and corresponding cache from linear_activation_forward function and outputs the derivative of the activations of the previous layer along with gradients dW and db. This dW, db are used for adjusting parameters W using gradient descent."
   ]
  },
  {
   "cell_type": "markdown",
   "metadata": {},
   "source": [
    "With backpropagation is successfully implemented we need to adjust the weights with the help of computed derivatives (dW and db)."
   ]
  },
  {
   "cell_type": "code",
   "execution_count": 48,
   "metadata": {},
   "outputs": [],
   "source": [
    "#update parameters\n",
    "def update_parameters(parameters, grads, learning_rate):\n",
    "    L = len(parameters) // 2 \n",
    "    for l in range(L):\n",
    "        parameters[\"W\" + str(l+1)] = parameters[\"W\" + str(l+1)]-(learning_rate)*grads[\"dW\"+str(l+1)] \n",
    "        parameters[\"b\" + str(l+1)] = parameters[\"b\" + str(l+1)]-(learning_rate)*grads[\"db\"+str(l+1)]\n",
    "    return parameters"
   ]
  },
  {
   "cell_type": "markdown",
   "metadata": {},
   "source": [
    "# NN with 2 hidden layers and training of model\n",
    "How to choose the number of hidden layers and nodes in a feedforward neural network?\n",
    "\n",
    "**Input Layer: shape of your training data**\n",
    "<br> 64 Pixel in each picture -> 64 input neurons\n",
    "\n",
    "**Output Layer: determined by the chosen model configuration**\n",
    "<br> Classifier: one node per class label -> 10 nodes because of 10 digits (0-9)\n",
    "\n",
    "**Hidden Layers: nicht immer eindeutig -> Stellschraube**\n",
    "<br>1. How many Layers? \n",
    "<br> The situations in which performance improves with a second (or third, etc.) hidden layer are very few. One hidden layer is sufficient for the large majority of problems.\n",
    "<br>2. How many neurons per layer?\n",
    "<br> The optimal size of the hidden layer is usually between the size of the input and size of the output layers: between 64 and 10 -> choose 37 because (64+10)/2 = 37\n",
    "<br> Prevent overfitting by $N_h = \\frac{N_s}{\\alpha * (N_i + N_o)}$\n",
    "\n",
    "<br> $N_h$ =  number of neurons in hidden layer.\n",
    "<br> $N_i$ =  number of input neurons.\n",
    "<br> $N_o$ =  number of output neurons.\n",
    "<br> $N_s$ =  number of samples in training data set.\n",
    "<br> $\\alpha$ =  an arbitrary scaling factor usually 2-10.\n",
    "\n",
    "**Rules-of-thumb for hidden layers**\n",
    "1. number of hidden layers equals one.\n",
    "2. the number of neurons in that layer is the mean of the neurons in the input and output layers. \n",
    "\n"
   ]
  },
  {
   "cell_type": "code",
   "execution_count": 67,
   "metadata": {},
   "outputs": [],
   "source": [
    "# N layer neural network\n",
    "layers_dims=[n_x, 37,10]\n",
    "costs = [] \n",
    "learning_rate = 0.005\n",
    "def L_layer_model(X, Y, layers_dims, learning_rate = 0.005, num_iterations = 3000, print_cost=False):\n",
    "    np.random.seed(1)\n",
    "    \n",
    "    \n",
    "    parameters = initialize_parameters_deep(layers_dims)\n",
    "    \n",
    "    for i in range(0, num_iterations):\n",
    "        AL, caches = L_model_forward(X, parameters)\n",
    "        cost = compute_cost(AL, Y)\n",
    "        grads = L_model_backward(AL, Y, caches)\n",
    "        parameters = update_parameters(parameters, grads, learning_rate)\n",
    "        if print_cost and i % 1000 == 0:\n",
    "            print (\"Cost after iteration %i: %f\" %(i, cost))\n",
    "            costs.append(cost)\n",
    "    \n",
    "    return parameters"
   ]
  },
  {
   "cell_type": "code",
   "execution_count": 69,
   "metadata": {},
   "outputs": [
    {
     "name": "stdout",
     "output_type": "stream",
     "text": [
      "Cost after iteration 0: 6.929388\n",
      "Cost after iteration 1000: 2.338469\n",
      "Cost after iteration 2000: 1.127172\n",
      "Cost after iteration 3000: 0.708531\n",
      "Cost after iteration 4000: 0.495387\n",
      "Cost after iteration 5000: 0.381673\n",
      "Cost after iteration 6000: 0.314106\n",
      "Cost after iteration 7000: 0.268470\n",
      "Cost after iteration 8000: 0.234832\n",
      "Cost after iteration 9000: 0.208566\n",
      "Cost after iteration 10000: 0.187221\n",
      "Cost after iteration 11000: 0.169500\n",
      "Cost after iteration 12000: 0.154654\n",
      "Cost after iteration 13000: 0.141985\n",
      "Cost after iteration 14000: 0.131052\n",
      "Cost after iteration 15000: 0.121526\n",
      "Cost after iteration 16000: 0.113140\n",
      "Cost after iteration 17000: 0.105697\n",
      "Cost after iteration 18000: 0.099044\n",
      "Cost after iteration 19000: 0.093070\n",
      "Cost after iteration 20000: 0.087649\n",
      "Cost after iteration 21000: 0.082697\n",
      "Cost after iteration 22000: 0.078179\n",
      "Cost after iteration 23000: 0.074037\n",
      "Cost after iteration 24000: 0.070240\n",
      "Cost after iteration 25000: 0.066743\n",
      "Cost after iteration 26000: 0.063515\n",
      "Cost after iteration 27000: 0.060525\n",
      "Cost after iteration 28000: 0.057750\n",
      "Cost after iteration 29000: 0.055172\n"
     ]
    }
   ],
   "source": [
    "parameters = L_layer_model(X_train, Y_train_, layers_dims, num_iterations = 30000, print_cost = True)"
   ]
  },
  {
   "cell_type": "code",
   "execution_count": 73,
   "metadata": {},
   "outputs": [
    {
     "data": {
      "image/png": "[encoded data removed]",
      "text/plain": [
       "<Figure size 720x576 with 1 Axes>"
      ]
     },
     "metadata": {
      "needs_background": "light"
     },
     "output_type": "display_data"
    }
   ],
   "source": [
    "# plot the cost\n",
    "plt.figure(figsize=(10,8))\n",
    "plt.plot(np.squeeze(costs))\n",
    "plt.ylabel('cost')\n",
    "plt.xlabel('iterations (in 1000))')\n",
    "plt.title(\"Learning rate =\" + str(learning_rate))\n",
    "plt.show()"
   ]
  },
  {
   "cell_type": "code",
   "execution_count": 51,
   "metadata": {},
   "outputs": [],
   "source": [
    "def predict_L_layer(X,parameters):\n",
    "    AL, _ =L_model_forward(X,parameters)\n",
    "    prediction=np.argmax(AL,axis=0)\n",
    "    return prediction.reshape(1,prediction.shape[0])"
   ]
  },
  {
   "cell_type": "code",
   "execution_count": 52,
   "metadata": {},
   "outputs": [],
   "source": [
    "predictions_train_L = predict_L_layer(X_train, parameters)"
   ]
  },
  {
   "cell_type": "code",
   "execution_count": 53,
   "metadata": {},
   "outputs": [
    {
     "name": "stdout",
     "output_type": "stream",
     "text": [
      "Training Accuracy : 100.0 %\n"
     ]
    }
   ],
   "source": [
    "print(\"Training Accuracy : \"+ str(np.sum(predictions_train_L==y_train)/y_train.shape[1] * 100)+\" %\")"
   ]
  },
  {
   "cell_type": "code",
   "execution_count": 54,
   "metadata": {},
   "outputs": [],
   "source": [
    "predictions_test_L=predict_L_layer(X_test,parameters)"
   ]
  },
  {
   "cell_type": "code",
   "execution_count": 55,
   "metadata": {},
   "outputs": [
    {
     "name": "stdout",
     "output_type": "stream",
     "text": [
      "Testing Accuracy : 98.05555555555556 %\n"
     ]
    }
   ],
   "source": [
    "print(\"Testing Accuracy : \"+ str(np.sum(predictions_test_L==y_test)/y_test.shape[1] * 100)+\" %\")"
   ]
  },
  {
   "cell_type": "code",
   "execution_count": 56,
   "metadata": {},
   "outputs": [],
   "source": [
    "np.save('./training_model/model.npy',parameters)"
   ]
  },
  {
   "cell_type": "code",
   "execution_count": 57,
   "metadata": {},
   "outputs": [],
   "source": [
    "loaded_parameter_array = np.load('./training_model/model.npy', allow_pickle=True)"
   ]
  },
  {
   "cell_type": "code",
   "execution_count": 58,
   "metadata": {},
   "outputs": [
    {
     "name": "stdout",
     "output_type": "stream",
     "text": [
      "W1 [[ 0.01788628 -0.00327869 -0.09674934 ... -0.07661276 -0.07392524\n",
      "  -0.11665653]\n",
      " [-0.00674728 -0.02410656  0.06829751 ... -0.01068886 -0.00674229\n",
      "  -0.12621237]\n",
      " [-0.00648411 -0.10114326 -0.27758722 ...  0.02394125 -0.03476629\n",
      "  -0.13610243]\n",
      " ...\n",
      " [ 0.01105436 -0.05011353 -0.02085722 ... -0.21269063 -0.18676765\n",
      "  -0.10275314]\n",
      " [-0.00951221  0.03039849  0.09137619 ...  0.32139734  0.19744251\n",
      "   0.01602954]\n",
      " [ 0.00987873 -0.23100563  0.09119874 ...  0.01191416 -0.06533897\n",
      "   0.32485285]]\n",
      "b1 [[0.39103497]\n",
      " [0.43511869]\n",
      " [0.35885332]\n",
      " [0.12994087]\n",
      " [0.27294792]\n",
      " [0.26432392]\n",
      " [0.30885949]\n",
      " [0.48487084]\n",
      " [0.22384781]\n",
      " [0.38771423]\n",
      " [0.20711809]\n",
      " [0.10742618]\n",
      " [0.29615731]\n",
      " [0.31541113]\n",
      " [0.67605694]\n",
      " [0.51687117]\n",
      " [0.17422572]\n",
      " [0.24007438]\n",
      " [0.47407741]\n",
      " [0.4137644 ]\n",
      " [0.32546862]\n",
      " [0.1846132 ]\n",
      " [0.16307887]\n",
      " [0.64298569]\n",
      " [0.15783987]\n",
      " [0.30477148]\n",
      " [0.55937046]\n",
      " [0.40033524]\n",
      " [0.16857991]\n",
      " [0.65980201]\n",
      " [0.40781276]\n",
      " [0.18483271]\n",
      " [0.01392229]\n",
      " [0.32053168]\n",
      " [0.48376567]\n",
      " [0.48074781]\n",
      " [0.67821264]]\n",
      "W2 [[ 0.92467094 -0.22417338  0.32590949  0.41309518 -0.35994751  0.05846262\n",
      "  -0.2853883  -0.11814242 -0.39181225  0.55995598 -0.50787132 -0.33669265\n",
      "  -0.44661265 -0.43415664 -0.40821998 -0.19343813 -0.04756691 -0.47083077\n",
      "  -0.53548881 -0.40849861 -0.41718104  0.17618985 -0.28886856 -0.47336289\n",
      "  -0.28014479 -0.33522387 -0.41380869 -0.00966839 -0.35774013 -0.26855416\n",
      "  -0.40672289 -0.37601104 -0.89623426  0.07843883  0.03810406 -0.40977379\n",
      "  -0.33517764]\n",
      " [-0.22413772 -0.65996873 -0.64585109 -0.1774863  -0.26106529 -0.69325979\n",
      "  -0.30563427 -0.63801255  0.334927   -0.52511267  0.01954609  0.40712577\n",
      "  -0.218605    0.30112645  0.17489947 -0.53779699 -0.35282657 -0.02229818\n",
      "   0.09099376 -0.94393923 -0.59052272 -0.18761797 -0.03594477 -1.33410469\n",
      "  -0.36571372  1.02713267 -0.32727876 -0.75285542  0.20472008 -0.57215275\n",
      "  -0.68768534  0.65810532 -0.90213891 -0.01425476 -0.1348612  -0.60378312\n",
      "   0.58370221]\n",
      " [-0.6035291   0.17875055 -0.26443023  0.03699317 -0.30614144  0.81306833\n",
      "  -0.0513474  -0.2994981  -0.32292156 -0.08558915 -0.36158538 -0.48343703\n",
      "  -0.63119824 -0.39334017  0.58753321 -0.44930066 -0.08116992 -0.21397025\n",
      "  -0.77936916 -0.61781405 -0.28015372 -0.21251638 -0.46454487  0.26341911\n",
      "  -0.21559353  0.14477587 -0.22801317 -0.48377543  0.83506263  0.09716613\n",
      "  -0.62939495 -0.20687794 -0.42001336 -0.30701348 -0.34488342  0.23669985\n",
      "  -1.28507608]\n",
      " [-0.72373956 -0.28007072  0.01414972 -0.2351778  -0.45418522 -0.84976996\n",
      "   0.26544268 -0.48587096 -0.32532433 -0.32216632 -0.63677477  0.6509646\n",
      "   0.1280313   1.11499302 -0.97482046 -0.21141624 -0.07579579 -1.43758662\n",
      "   0.26355415 -0.74100312  0.57671076 -0.16175355 -0.14648826  0.38103707\n",
      "  -0.31324673 -0.34821753 -0.12379115 -0.55515884 -0.46324246  0.43039792\n",
      "   0.19252215 -0.65880427 -0.21778364 -0.33936689 -0.62894306 -0.13840283\n",
      "  -0.8505372 ]\n",
      " [-0.46290572  0.02326055 -0.43453138  0.18336516  0.07890472 -0.16330731\n",
      "  -0.94770429  0.36073085 -0.9053217  -0.14665729  0.95684206 -0.24018736\n",
      "  -0.39917158 -0.46662301 -0.52698885 -0.5480822  -0.28284973  0.07012039\n",
      "  -0.56233737  0.29442625 -0.15431458 -0.1681443   0.44777388 -0.27808496\n",
      "  -0.13836322 -0.73505751 -0.39731442 -0.24590319 -0.48221014 -0.42379198\n",
      "  -0.69728777  0.19049109  0.4892728  -0.19503876 -0.37017593 -0.38708848\n",
      "  -0.2343869 ]\n",
      " [-0.81096353 -0.23207752 -0.2445845  -0.36924825  0.43241403  0.07480335\n",
      "  -0.51152022 -0.30794671 -0.24227403 -0.58504459 -0.30221638 -0.05795122\n",
      "  -0.30143189 -0.85141014 -0.66096539  0.81311345 -0.1952904  -0.67122468\n",
      "  -0.66249206  0.42563226 -0.4898879   0.12046028 -0.2199151  -0.36594882\n",
      "  -0.33284764 -0.56175767  0.48479847 -0.24817512  0.01712882 -0.56306128\n",
      "   1.03355574 -0.32486268 -0.26322323  0.4513879  -0.25367506 -0.2022765\n",
      "  -0.11661437]\n",
      " [-0.30887852 -0.2658964   0.32497453 -0.5882702   0.00333797 -0.42908011\n",
      "  -0.21476976 -0.01931524  0.86697487 -0.81125591 -0.50615172 -0.12547968\n",
      "  -0.30700191 -0.29206351 -0.30647483 -0.38601409  0.15384965 -0.4293573\n",
      "  -0.28970394 -0.8066886  -0.31469159  0.16616059  0.11957    -0.52061204\n",
      "  -0.10129322 -0.36906781 -0.03680248 -0.47063448 -0.55775111 -0.33346967\n",
      "  -0.5226936  -0.71488869  0.7586791   0.16457852 -0.35859128 -0.40764167\n",
      "  -0.38776997]\n",
      " [-0.79898941 -0.17471309 -0.17762949 -0.10851184 -0.14042869 -0.32125364\n",
      "   0.92500112 -0.44337795 -0.37532221  0.38464773 -0.42128859 -0.39011934\n",
      "  -0.34923706 -0.17886981 -0.54489161 -0.63111408 -0.07528     0.21605119\n",
      "  -0.01489801  0.51099258 -0.42049736 -0.19710349 -0.54886809 -0.24079959\n",
      "   0.41624841 -0.49397115 -0.40151645 -0.43449571 -0.40502857  0.06995043\n",
      "  -0.14086006  0.29651159 -0.57981924 -0.25932194  0.5309471  -0.48860256\n",
      "  -0.85119743]\n",
      " [-0.62383975  0.73689181  0.19494893  0.11960896 -0.27691097 -0.67277002\n",
      "  -0.46873853  0.79870682 -0.83135321  0.19737033 -0.90839329 -0.81201437\n",
      "  -0.06886735 -0.24300577  0.49343713 -1.01413205  0.58321984 -0.47017074\n",
      "  -0.17155417 -0.50669909  0.02711033 -0.37635459 -0.7103528   0.13857239\n",
      "  -0.31100984 -0.38092241  0.29847747  0.11069987 -1.06446306  0.44356112\n",
      "  -0.35395422 -0.9165742  -0.55488896 -0.46886352  0.27863473 -0.80169595\n",
      "   0.97399171]\n",
      " [-0.04950009 -0.45289839 -0.7252315  -0.48380768 -0.35629766 -0.21153914\n",
      "  -0.95767801 -0.20198703 -0.48048571 -0.60191805 -0.61084658  0.06390915\n",
      "   0.81375414 -0.80359545 -0.85830238 -0.13884281 -0.28945094  0.66677943\n",
      "   0.63742716 -0.18125666  0.43505456 -0.53533082 -0.45145832 -0.57545767\n",
      "   0.5635962  -0.5885869  -0.91844089  0.98122678 -0.37410925 -0.90450625\n",
      "  -0.31559528 -0.47603998 -0.11300994 -0.88841771 -0.17403105  0.35337047\n",
      "   0.12379113]]\n",
      "b2 [[-1.05440891]\n",
      " [-1.15438709]\n",
      " [-1.1334725 ]\n",
      " [-1.15899903]\n",
      " [-1.22872768]\n",
      " [-0.90797953]\n",
      " [-1.04506524]\n",
      " [-1.01710477]\n",
      " [-0.33972208]\n",
      " [-0.97622314]]\n"
     ]
    }
   ],
   "source": [
    "loaded_parameters = dict()\n",
    "for key, key_d in loaded_parameter_array.item().items():\n",
    "    print(key, key_d)\n",
    "    loaded_parameters[key] = key_d"
   ]
  },
  {
   "cell_type": "code",
   "execution_count": 59,
   "metadata": {},
   "outputs": [],
   "source": [
    "loaded_img = plt.imread(\"./data/img/img_20211023-134501_2.png\")"
   ]
  },
  {
   "cell_type": "code",
   "execution_count": 60,
   "metadata": {},
   "outputs": [],
   "source": [
    "def rgb2gray(rgb):\n",
    "    return np.dot(rgb[...,:3], [0.299, 0.587, 0.114])\n",
    "def rebin(a, shape):\n",
    "    sh = shape[0],a.shape[0]//shape[0],shape[1],a.shape[1]//shape[1]\n",
    "    return a.reshape(sh).mean(-1).mean(1)"
   ]
  },
  {
   "cell_type": "code",
   "execution_count": 61,
   "metadata": {},
   "outputs": [],
   "source": [
    "gray_img = rgb2gray(loaded_img)"
   ]
  },
  {
   "cell_type": "code",
   "execution_count": 62,
   "metadata": {},
   "outputs": [],
   "source": [
    "grayimg1 = rebin(gray_img, (8,8))/255*16"
   ]
  },
  {
   "cell_type": "code",
   "execution_count": 63,
   "metadata": {},
   "outputs": [
    {
     "data": {
      "image/png": "[encoded data removed]",
      "text/plain": [
       "<Figure size 432x288 with 1 Axes>"
      ]
     },
     "metadata": {
      "needs_background": "light"
     },
     "output_type": "display_data"
    }
   ],
   "source": [
    "plt.imshow(grayimg1, cmap='gray')\n",
    "plt.show()"
   ]
  },
  {
   "cell_type": "code",
   "execution_count": 64,
   "metadata": {},
   "outputs": [
    {
     "name": "stdout",
     "output_type": "stream",
     "text": [
      "Predicted digit is : 4\n"
     ]
    }
   ],
   "source": [
    "training_img=grayimg1.reshape((64,1)).T\n",
    "training_img = sc.transform(training_img)\n",
    "training_img=training_img.T\n",
    "predicted_digit=predict_L_layer(training_img,parameters)\n",
    "print('Predicted digit is : '+str(np.squeeze(predicted_digit)[()]))"
   ]
  },
  {
   "cell_type": "code",
   "execution_count": 65,
   "metadata": {},
   "outputs": [
    {
     "data": {
      "image/png": "[encoded data removed]",
      "text/plain": [
       "<Figure size 432x288 with 1 Axes>"
      ]
     },
     "metadata": {
      "needs_background": "light"
     },
     "output_type": "display_data"
    },
    {
     "name": "stdout",
     "output_type": "stream",
     "text": [
      "Predicted digit is : [[2]]\n",
      "True digit is: 2\n"
     ]
    },
    {
     "data": {
      "image/png": "[encoded data removed]",
      "text/plain": [
       "<Figure size 432x288 with 1 Axes>"
      ]
     },
     "metadata": {
      "needs_background": "light"
     },
     "output_type": "display_data"
    },
    {
     "name": "stdout",
     "output_type": "stream",
     "text": [
      "Predicted digit is : [[5]]\n",
      "True digit is: 5\n"
     ]
    },
    {
     "data": {
      "image/png": "[encoded data removed]",
      "text/plain": [
       "<Figure size 432x288 with 1 Axes>"
      ]
     },
     "metadata": {
      "needs_background": "light"
     },
     "output_type": "display_data"
    },
    {
     "name": "stdout",
     "output_type": "stream",
     "text": [
      "Predicted digit is : [[3]]\n",
      "True digit is: 3\n"
     ]
    },
    {
     "data": {
      "image/png": "[encoded data removed]",
      "text/plain": [
       "<Figure size 432x288 with 1 Axes>"
      ]
     },
     "metadata": {
      "needs_background": "light"
     },
     "output_type": "display_data"
    },
    {
     "name": "stdout",
     "output_type": "stream",
     "text": [
      "Predicted digit is : [[9]]\n",
      "True digit is: 9\n"
     ]
    },
    {
     "data": {
      "image/png": "[encoded data removed]",
      "text/plain": [
       "<Figure size 432x288 with 1 Axes>"
      ]
     },
     "metadata": {
      "needs_background": "light"
     },
     "output_type": "display_data"
    },
    {
     "name": "stdout",
     "output_type": "stream",
     "text": [
      "Predicted digit is : [[1]]\n",
      "True digit is: 1\n"
     ]
    },
    {
     "data": {
      "image/png": "[encoded data removed]",
      "text/plain": [
       "<Figure size 432x288 with 1 Axes>"
      ]
     },
     "metadata": {
      "needs_background": "light"
     },
     "output_type": "display_data"
    },
    {
     "name": "stdout",
     "output_type": "stream",
     "text": [
      "Predicted digit is : [[5]]\n",
      "True digit is: 5\n"
     ]
    },
    {
     "data": {
      "image/png": "[encoded data removed]",
      "text/plain": [
       "<Figure size 432x288 with 1 Axes>"
      ]
     },
     "metadata": {
      "needs_background": "light"
     },
     "output_type": "display_data"
    },
    {
     "name": "stdout",
     "output_type": "stream",
     "text": [
      "Predicted digit is : [[9]]\n",
      "True digit is: 9\n"
     ]
    },
    {
     "data": {
      "image/png": "[encoded data removed]",
      "text/plain": [
       "<Figure size 432x288 with 1 Axes>"
      ]
     },
     "metadata": {
      "needs_background": "light"
     },
     "output_type": "display_data"
    },
    {
     "name": "stdout",
     "output_type": "stream",
     "text": [
      "Predicted digit is : [[8]]\n",
      "True digit is: 8\n"
     ]
    },
    {
     "data": {
      "image/png": "[encoded data removed]",
      "text/plain": [
       "<Figure size 432x288 with 1 Axes>"
      ]
     },
     "metadata": {
      "needs_background": "light"
     },
     "output_type": "display_data"
    },
    {
     "name": "stdout",
     "output_type": "stream",
     "text": [
      "Predicted digit is : [[7]]\n",
      "True digit is: 7\n"
     ]
    },
    {
     "data": {
      "image/png": "[encoded data removed]",
      "text/plain": [
       "<Figure size 432x288 with 1 Axes>"
      ]
     },
     "metadata": {
      "needs_background": "light"
     },
     "output_type": "display_data"
    },
    {
     "name": "stdout",
     "output_type": "stream",
     "text": [
      "Predicted digit is : [[4]]\n",
      "True digit is: 4\n"
     ]
    },
    {
     "data": {
      "image/png": "[encoded data removed]",
      "text/plain": [
       "<Figure size 432x288 with 1 Axes>"
      ]
     },
     "metadata": {
      "needs_background": "light"
     },
     "output_type": "display_data"
    },
    {
     "name": "stdout",
     "output_type": "stream",
     "text": [
      "Predicted digit is : [[8]]\n",
      "True digit is: 8\n"
     ]
    },
    {
     "data": {
      "image/png": "[encoded data removed]",
      "text/plain": [
       "<Figure size 432x288 with 1 Axes>"
      ]
     },
     "metadata": {
      "needs_background": "light"
     },
     "output_type": "display_data"
    },
    {
     "name": "stdout",
     "output_type": "stream",
     "text": [
      "Predicted digit is : [[3]]\n",
      "True digit is: 3\n"
     ]
    },
    {
     "data": {
      "image/png": "[encoded data removed]",
      "text/plain": [
       "<Figure size 432x288 with 1 Axes>"
      ]
     },
     "metadata": {
      "needs_background": "light"
     },
     "output_type": "display_data"
    },
    {
     "name": "stdout",
     "output_type": "stream",
     "text": [
      "Predicted digit is : [[7]]\n",
      "True digit is: 7\n"
     ]
    },
    {
     "data": {
      "image/png": "[encoded data removed]",
      "text/plain": [
       "<Figure size 432x288 with 1 Axes>"
      ]
     },
     "metadata": {
      "needs_background": "light"
     },
     "output_type": "display_data"
    },
    {
     "name": "stdout",
     "output_type": "stream",
     "text": [
      "Predicted digit is : [[6]]\n",
      "True digit is: 6\n"
     ]
    },
    {
     "data": {
      "image/png": "[encoded data removed]",
      "text/plain": [
       "<Figure size 432x288 with 1 Axes>"
      ]
     },
     "metadata": {
      "needs_background": "light"
     },
     "output_type": "display_data"
    },
    {
     "name": "stdout",
     "output_type": "stream",
     "text": [
      "Predicted digit is : [[0]]\n",
      "True digit is: 0\n"
     ]
    }
   ],
   "source": [
    "import random\n",
    "for j in range(15):\n",
    "    i=random.randint(0,n_samples)\n",
    "    plt.imshow(number_data.images[i],  cmap='gray')\n",
    "    plt.show()\n",
    "      \n",
    "    training_img=number_data.images[i].reshape((64,1)).T\n",
    "    training_img = sc.transform(training_img)\n",
    "    training_img=training_img.T\n",
    "    predicted_digit=predict_L_layer(training_img,parameters)\n",
    "    print('Predicted digit is : '+str(predicted_digit))\n",
    "    print('True digit is: '+ str(y[i]))"
   ]
  },
  {
   "cell_type": "code",
   "execution_count": null,
   "metadata": {},
   "outputs": [],
   "source": []
  }
 ],
 "metadata": {
  "interpreter": {
   "hash": "1850d8fdad53951039198cf078678353ec8240d46654b6223c5cdccca450a5fc"
  },
  "kernelspec": {
   "display_name": "Python 3.8.5 64-bit ('base': conda)",
   "name": "python3"
  },
  "language_info": {
   "codemirror_mode": {
    "name": "ipython",
    "version": 3
   },
   "file_extension": ".py",
   "mimetype": "text/x-python",
   "name": "python",
   "nbconvert_exporter": "python",
   "pygments_lexer": "ipython3",
   "version": "3.8.12"
  },
  "orig_nbformat": 4
 },
 "nbformat": 4,
 "nbformat_minor": 2
}
