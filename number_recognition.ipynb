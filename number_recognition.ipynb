{
 "cells": [
  {
   "cell_type": "markdown",
   "metadata": {},
   "source": [
    "# Number Recognition"
   ]
  },
  {
   "cell_type": "code",
   "execution_count": 29,
   "metadata": {},
   "outputs": [],
   "source": [
    "import numpy as np\n",
    "import matplotlib.pyplot as plt\n",
    "%matplotlib inline\n",
    "from sklearn.datasets import load_digits\n",
    "from sklearn.model_selection import train_test_split"
   ]
  },
  {
   "cell_type": "markdown",
   "metadata": {},
   "source": [
    "## Import Data"
   ]
  },
  {
   "cell_type": "code",
   "execution_count": 30,
   "metadata": {},
   "outputs": [],
   "source": [
    "number_data = load_digits()"
   ]
  },
  {
   "cell_type": "code",
   "execution_count": 100,
   "metadata": {},
   "outputs": [
    {
     "data": {
      "text/plain": [
       "(1797, 8, 8)"
      ]
     },
     "execution_count": 100,
     "metadata": {},
     "output_type": "execute_result"
    }
   ],
   "source": [
    "number_data.images.shape"
   ]
  },
  {
   "cell_type": "code",
   "execution_count": 101,
   "metadata": {},
   "outputs": [],
   "source": [
    "# dict_keys(['data', 'target', 'frame', 'feature_names', 'target_names', 'images', 'DESCR'])\n",
    "test_dict = {\"images\": np.zeros((8,8,1)), 'target': \"None\"}"
   ]
  },
  {
   "cell_type": "code",
   "execution_count": 104,
   "metadata": {},
   "outputs": [
    {
     "data": {
      "text/plain": [
       "(8, 8, 1)"
      ]
     },
     "execution_count": 104,
     "metadata": {},
     "output_type": "execute_result"
    }
   ],
   "source": [
    "test_dict[\"images\"].shape"
   ]
  },
  {
   "cell_type": "code",
   "execution_count": 109,
   "metadata": {},
   "outputs": [],
   "source": [
    "a1 = np.zeros((8,8,1))"
   ]
  },
  {
   "cell_type": "code",
   "execution_count": 116,
   "metadata": {},
   "outputs": [],
   "source": [
    "a2 = np.vstack((test_dict[\"images\"], a1))"
   ]
  },
  {
   "cell_type": "code",
   "execution_count": 117,
   "metadata": {},
   "outputs": [
    {
     "data": {
      "text/plain": [
       "(16, 8, 1)"
      ]
     },
     "execution_count": 117,
     "metadata": {},
     "output_type": "execute_result"
    }
   ],
   "source": [
    "a2.shape"
   ]
  },
  {
   "cell_type": "code",
   "execution_count": 98,
   "metadata": {},
   "outputs": [
    {
     "data": {
      "text/plain": [
       "(1797, 64)"
      ]
     },
     "execution_count": 98,
     "metadata": {},
     "output_type": "execute_result"
    }
   ],
   "source": [
    "number_data.data.shape"
   ]
  },
  {
   "cell_type": "code",
   "execution_count": 32,
   "metadata": {},
   "outputs": [
    {
     "data": {
      "text/plain": [
       "1797"
      ]
     },
     "execution_count": 32,
     "metadata": {},
     "output_type": "execute_result"
    }
   ],
   "source": [
    "len(number_data.data)"
   ]
  },
  {
   "cell_type": "code",
   "execution_count": 33,
   "metadata": {},
   "outputs": [
    {
     "data": {
      "text/plain": [
       "64"
      ]
     },
     "execution_count": 33,
     "metadata": {},
     "output_type": "execute_result"
    }
   ],
   "source": [
    "len(number_data.data[0])"
   ]
  },
  {
   "cell_type": "code",
   "execution_count": 34,
   "metadata": {},
   "outputs": [
    {
     "data": {
      "text/plain": [
       "numpy.ndarray"
      ]
     },
     "execution_count": 34,
     "metadata": {},
     "output_type": "execute_result"
    }
   ],
   "source": [
    "type(number_data.data)"
   ]
  },
  {
   "cell_type": "code",
   "execution_count": 35,
   "metadata": {},
   "outputs": [
    {
     "data": {
      "image/png": "[encoded data removed]",
      "text/plain": [
       "<Figure size 432x288 with 1 Axes>"
      ]
     },
     "metadata": {
      "needs_background": "light"
     },
     "output_type": "display_data"
    }
   ],
   "source": [
    "img = number_data.images[0]\n",
    "label = number_data.target[0]\n",
    "\n",
    "plt.imshow(img, cmap='gray')\n",
    "plt.title(f'First Number: {label}')\n",
    "plt.show()"
   ]
  },
  {
   "cell_type": "code",
   "execution_count": 36,
   "metadata": {},
   "outputs": [
    {
     "data": {
      "text/plain": [
       "numpy.ndarray"
      ]
     },
     "execution_count": 36,
     "metadata": {},
     "output_type": "execute_result"
    }
   ],
   "source": [
    "type(img)"
   ]
  },
  {
   "cell_type": "code",
   "execution_count": 37,
   "metadata": {},
   "outputs": [
    {
     "data": {
      "text/plain": [
       "array([[ 0.,  0.,  5., 13.,  9.,  1.,  0.,  0.],\n",
       "       [ 0.,  0., 13., 15., 10., 15.,  5.,  0.],\n",
       "       [ 0.,  3., 15.,  2.,  0., 11.,  8.,  0.],\n",
       "       [ 0.,  4., 12.,  0.,  0.,  8.,  8.,  0.],\n",
       "       [ 0.,  5.,  8.,  0.,  0.,  9.,  8.,  0.],\n",
       "       [ 0.,  4., 11.,  0.,  1., 12.,  7.,  0.],\n",
       "       [ 0.,  2., 14.,  5., 10., 12.,  0.,  0.],\n",
       "       [ 0.,  0.,  6., 13., 10.,  0.,  0.,  0.]])"
      ]
     },
     "execution_count": 37,
     "metadata": {},
     "output_type": "execute_result"
    }
   ],
   "source": [
    "img"
   ]
  },
  {
   "cell_type": "code",
   "execution_count": 38,
   "metadata": {},
   "outputs": [
    {
     "name": "stdout",
     "output_type": "stream",
     "text": [
      "Array of Image:\n",
      "[[ 0.  0.  5. 13.  9.  1.  0.  0.]\n",
      " [ 0.  0. 13. 15. 10. 15.  5.  0.]\n",
      " [ 0.  3. 15.  2.  0. 11.  8.  0.]\n",
      " [ 0.  4. 12.  0.  0.  8.  8.  0.]\n",
      " [ 0.  5.  8.  0.  0.  9.  8.  0.]\n",
      " [ 0.  4. 11.  0.  1. 12.  7.  0.]\n",
      " [ 0.  2. 14.  5. 10. 12.  0.  0.]\n",
      " [ 0.  0.  6. 13. 10.  0.  0.  0.]]\n",
      "Target/Label of Image: 0\n",
      "Number of Images: 1797\n"
     ]
    }
   ],
   "source": [
    "# 8x8 digit Image\n",
    "print(\"Array of Image:\")\n",
    "print(img)\n",
    "\n",
    "print(f\"Target/Label of Image: {label}\")\n",
    "\n",
    "# Length of Dataset\n",
    "print(f\"Number of Images: {len(number_data.images)}\")"
   ]
  },
  {
   "cell_type": "code",
   "execution_count": 39,
   "metadata": {},
   "outputs": [
    {
     "data": {
      "image/png": "[encoded data removed]",
      "text/plain": [
       "<Figure size 360x360 with 15 Axes>"
      ]
     },
     "metadata": {
      "needs_background": "light"
     },
     "output_type": "display_data"
    }
   ],
   "source": [
    "images_and_labels=list(zip(number_data.images,number_data.target))\n",
    "plt.figure(figsize=(5,5))\n",
    "for index,(image,label) in enumerate(images_and_labels[:15]):\n",
    "    plt.subplot(3,5,index+1)\n",
    "    plt.axis('off')\n",
    "    plt.imshow(image,cmap=\"gray_r\",interpolation='nearest')\n",
    "    plt.title('%i' % label)"
   ]
  },
  {
   "cell_type": "code",
   "execution_count": 40,
   "metadata": {},
   "outputs": [],
   "source": [
    "## Definition of Variables"
   ]
  },
  {
   "cell_type": "code",
   "execution_count": 41,
   "metadata": {},
   "outputs": [
    {
     "name": "stdout",
     "output_type": "stream",
     "text": [
      "Number of samples in the data set is :1797\n",
      "Shape of input matrix x is : (1797, 64)\n",
      "Shape of target vector y is :(1797,)\n"
     ]
    }
   ],
   "source": [
    "# Number of samples in the data set\n",
    "n_samples=len(number_data.images)\n",
    "print(\"Number of samples in the data set is :\"+ str(n_samples))\n",
    "\n",
    "x=number_data.images.reshape((n_samples,-1))\n",
    "print(\"Shape of input matrix x is : \"+ str(x.shape))\n",
    "\n",
    "y=number_data.target\n",
    "print(\"Shape of target vector y is :\"+ str(y.shape))\n"
   ]
  },
  {
   "cell_type": "markdown",
   "metadata": {},
   "source": [
    "## Split Training and Test Data"
   ]
  },
  {
   "cell_type": "code",
   "execution_count": 42,
   "metadata": {},
   "outputs": [],
   "source": [
    "# x: images, y: labels\n",
    "X_train, X_test, y_train, y_test = train_test_split(x, y, test_size = 0.2, random_state = 0)"
   ]
  },
  {
   "cell_type": "code",
   "execution_count": 43,
   "metadata": {},
   "outputs": [
    {
     "data": {
      "text/plain": [
       "1797"
      ]
     },
     "execution_count": 43,
     "metadata": {},
     "output_type": "execute_result"
    }
   ],
   "source": [
    "len(y_test) + len(y_train)"
   ]
  },
  {
   "cell_type": "markdown",
   "metadata": {},
   "source": [
    "## Feature Scaling"
   ]
  },
  {
   "cell_type": "code",
   "execution_count": 44,
   "metadata": {},
   "outputs": [
    {
     "data": {
      "text/plain": [
       "(1437, 64)"
      ]
     },
     "execution_count": 44,
     "metadata": {},
     "output_type": "execute_result"
    }
   ],
   "source": [
    "X_train.shape"
   ]
  },
  {
   "cell_type": "code",
   "execution_count": 45,
   "metadata": {},
   "outputs": [
    {
     "data": {
      "text/plain": [
       "array([[ 0.,  0.,  0., ..., 16., 16.,  6.],\n",
       "       [ 0.,  3., 12., ..., 16.,  2.,  0.],\n",
       "       [ 0.,  1., 10., ...,  0.,  0.,  0.],\n",
       "       ...,\n",
       "       [ 0.,  0.,  5., ...,  0.,  0.,  0.],\n",
       "       [ 0.,  0.,  4., ...,  0.,  0.,  0.],\n",
       "       [ 0.,  0.,  6., ..., 11.,  0.,  0.]])"
      ]
     },
     "execution_count": 45,
     "metadata": {},
     "output_type": "execute_result"
    }
   ],
   "source": [
    "X_train"
   ]
  },
  {
   "cell_type": "code",
   "execution_count": 46,
   "metadata": {},
   "outputs": [],
   "source": [
    "from sklearn.preprocessing import StandardScaler\n",
    "sc = StandardScaler()\n",
    "X_train = sc.fit_transform(X_train) #fit data, then transform it\n",
    "X_test = sc.transform(X_test) # already fitted with train data, only transform test data"
   ]
  },
  {
   "cell_type": "code",
   "execution_count": 47,
   "metadata": {},
   "outputs": [
    {
     "data": {
      "text/plain": [
       "(360, 64)"
      ]
     },
     "execution_count": 47,
     "metadata": {},
     "output_type": "execute_result"
    }
   ],
   "source": [
    "X_test.shape"
   ]
  },
  {
   "cell_type": "markdown",
   "metadata": {},
   "source": [
    "## Convert training example to colom vector"
   ]
  },
  {
   "cell_type": "code",
   "execution_count": 48,
   "metadata": {},
   "outputs": [],
   "source": [
    "X_train=X_train.T\n",
    "X_test=X_test.T"
   ]
  },
  {
   "cell_type": "code",
   "execution_count": 49,
   "metadata": {},
   "outputs": [
    {
     "data": {
      "text/plain": [
       "array([[ 0.        ,  0.        ,  0.        , ...,  0.        ,\n",
       "         0.        ,  0.        ],\n",
       "       [-0.33790435,  2.90642897,  0.74354009, ..., -0.33790435,\n",
       "        -0.33790435, -0.33790435],\n",
       "       [-1.09141592,  1.41696421,  0.99890086, ..., -0.04625753,\n",
       "        -0.25528921,  0.16277415],\n",
       "       ...,\n",
       "       [ 1.58325794,  1.58325794, -1.14493411, ..., -1.14493411,\n",
       "        -1.14493411,  0.73069792],\n",
       "       [ 3.53125595,  0.00595786, -0.49765616, ..., -0.49765616,\n",
       "        -0.49765616, -0.49765616],\n",
       "       [ 3.30213343, -0.18695903, -0.18695903, ..., -0.18695903,\n",
       "        -0.18695903, -0.18695903]])"
      ]
     },
     "execution_count": 49,
     "metadata": {},
     "output_type": "execute_result"
    }
   ],
   "source": [
    "X_train"
   ]
  },
  {
   "cell_type": "code",
   "execution_count": 50,
   "metadata": {},
   "outputs": [],
   "source": [
    "y_train=y_train.reshape(y_train.shape[0],1)\n",
    "y_test=y_test.reshape(y_test.shape[0],1)\n",
    "y_train=y_train.T\n",
    "y_test=y_test.T"
   ]
  },
  {
   "cell_type": "code",
   "execution_count": 51,
   "metadata": {},
   "outputs": [
    {
     "data": {
      "text/plain": [
       "(1, 1437)"
      ]
     },
     "execution_count": 51,
     "metadata": {},
     "output_type": "execute_result"
    }
   ],
   "source": [
    "y_train.shape"
   ]
  },
  {
   "cell_type": "markdown",
   "metadata": {},
   "source": [
    "## Reshape the converting and testing data to the shape 10,1\n",
    "* Output of model has 10 units (0-9)\n",
    "* index with the highest prediction will represent the predicted number"
   ]
  },
  {
   "cell_type": "code",
   "execution_count": 52,
   "metadata": {},
   "outputs": [],
   "source": [
    "Y_train_=np.zeros((10,y_train.shape[1]))\n",
    "for i in range(y_train.shape[1]):\n",
    "    Y_train_[y_train[0,i],i]=1\n",
    "    \n",
    "Y_test_=np.zeros((10,y_test.shape[1]))\n",
    "for i in range(y_test.shape[1]):\n",
    "    Y_test_[y_test[0,i],i]=1"
   ]
  },
  {
   "cell_type": "code",
   "execution_count": 53,
   "metadata": {},
   "outputs": [
    {
     "data": {
      "text/plain": [
       "(10, 1437)"
      ]
     },
     "execution_count": 53,
     "metadata": {},
     "output_type": "execute_result"
    }
   ],
   "source": [
    "Y_train_.shape"
   ]
  },
  {
   "cell_type": "code",
   "execution_count": 54,
   "metadata": {},
   "outputs": [],
   "source": [
    "n_x=X_train.shape[0]\n",
    "n_h=10\n",
    "n_y=Y_train_.shape[0]"
   ]
  },
  {
   "cell_type": "markdown",
   "metadata": {},
   "source": [
    "## Implementation of Neuronal Network"
   ]
  },
  {
   "cell_type": "code",
   "execution_count": 55,
   "metadata": {},
   "outputs": [],
   "source": [
    "# initialize parameters for deep neural networks\n",
    "def initialize_parameters_deep(layer_dims):\n",
    "    \"\"\"initializes parameter of convolutional neuronal network\n",
    "\n",
    "    Args:\n",
    "        layer_dims (list): [input features, hidden layers, output features] \n",
    "\n",
    "    Returns:\n",
    "        dict: parametes\n",
    "    \"\"\"\n",
    "    np.random.seed(3) #random initialization\n",
    "    parameters = {}\n",
    "    L = len(layer_dims) \n",
    "    for l in range(1, L):\n",
    "        parameters['W' + str(l)] = np.random.randn(layer_dims[l],layer_dims[l-1])*0.01 # matrix lx(l-1)\n",
    "        parameters['b' + str(l)] = np.zeros((layer_dims[l],1))\n",
    "        \n",
    "        assert(parameters['W' + str(l)].shape == (layer_dims[l], layer_dims[l-1]))\n",
    "        assert(parameters['b' + str(l)].shape == (layer_dims[l], 1))\n",
    "    return parameters"
   ]
  },
  {
   "cell_type": "code",
   "execution_count": 56,
   "metadata": {},
   "outputs": [],
   "source": [
    "def linear_forward(A, W, b):\n",
    "    \"\"\" Forward propagation without activation for a single layer\n",
    "\n",
    "    Args:\n",
    "        A ([type]): [description]\n",
    "        W ([type]): [description]\n",
    "        b ([type]): [description]\n",
    "\n",
    "    Returns:\n",
    "        [touple]: [description]\n",
    "    \"\"\"\n",
    "    Z = np.dot(W,A)+b\n",
    "    assert(Z.shape == (W.shape[0], A.shape[1]))\n",
    "    cache = (A, W, b)\n",
    "    \n",
    "    return Z, cache"
   ]
  },
  {
   "cell_type": "code",
   "execution_count": 57,
   "metadata": {},
   "outputs": [],
   "source": [
    "# use ful activation functions and their derivatives\n",
    "def sigmoid_(Z):\n",
    "    return 1/(1+np.exp(-Z))\n",
    "\n",
    "def relu_(Z):\n",
    "    return Z*(Z>0)\n",
    "\n",
    "def drelu_(Z):\n",
    "    return 1. *(Z>0)\n",
    "\n",
    "def dsigmoid_(Z):\n",
    "    return sigmoid_(Z)*(1-sigmoid_(Z))\n",
    "\n",
    "def sigmoid(Z):\n",
    "    return sigmoid_(Z),Z\n",
    "\n",
    "def relu(Z):\n",
    "    return relu_(Z),Z"
   ]
  },
  {
   "cell_type": "code",
   "execution_count": 58,
   "metadata": {},
   "outputs": [],
   "source": [
    "def linear_activation_forward(A_prev,W,b,activation):\n",
    "    \"\"\"Forward propagation with activation for a single layer: \n",
    "    If the type of activation is sigmoid, it performs sigmoid activation function else performs relu activation function.\n",
    "\n",
    "    Args:\n",
    "        A_prev ([type]): [description]\n",
    "        W ([type]): [description]\n",
    "        b ([type]): [description]\n",
    "        activation ([type]): [description]\n",
    "\n",
    "    Returns:\n",
    "        [type]: [description]\n",
    "    \"\"\"\n",
    "    if activation == \"sigmoid\":\n",
    "        Z, linear_cache = linear_forward(A_prev,W,b)\n",
    "        A, activation_cache = sigmoid(Z)\n",
    "        \n",
    "    elif activation == \"relu\":\n",
    "        Z, linear_cache = linear_forward(A_prev,W,b)\n",
    "        A, activation_cache = relu(Z)\n",
    "        \n",
    "    assert (A.shape == (W.shape[0], A_prev.shape[1]))\n",
    "    cache = (linear_cache, activation_cache)\n",
    "    \n",
    "    return A, cache"
   ]
  },
  {
   "cell_type": "code",
   "execution_count": 59,
   "metadata": {},
   "outputs": [],
   "source": [
    "# implementation of forward propogation for L layer neural network\n",
    "def L_model_forward(X, parameters):\n",
    "    \"\"\"Output the final predicted vector of the output layer and some cache information\n",
    "\n",
    "    chache: information which is used for backpropagation\n",
    "\n",
    "    Args:\n",
    "        X ([type]): [description]\n",
    "        parameters ([type]): [description]\n",
    "\n",
    "    Returns:\n",
    "        touple: AL, caches\n",
    "    \"\"\"\n",
    "    caches = []\n",
    "    A = X\n",
    "    L = len(parameters) // 2   \n",
    "    # For the first L-1 layers, we use relu as activation function and for the last layer, we use sigmoid activation function\n",
    "    for l in range(1, L):\n",
    "        A_prev = A \n",
    "        A, cache = linear_activation_forward(A_prev,parameters['W'+str(l)],parameters['b'+str(l)],\"relu\")\n",
    "        caches.append(cache)\n",
    "    AL, cache = linear_activation_forward(A,parameters['W'+str(L)],parameters['b'+str(L)],\"sigmoid\")\n",
    "    caches.append(cache)\n",
    "    #assert(AL.shape == (1,X.shape[1]))\n",
    "    return AL, caches"
   ]
  },
  {
   "cell_type": "code",
   "execution_count": 60,
   "metadata": {},
   "outputs": [],
   "source": [
    "# cost function\n",
    "def compute_cost(AL, Y):\n",
    "    m=Y.shape[1]\n",
    "    cost = -(1/m)*np.sum((Y*np.log(AL)+(1-Y)*np.log(1-AL)))\n",
    "    cost=np.squeeze(cost)\n",
    "    assert(cost.shape == ())\n",
    "    return cost"
   ]
  },
  {
   "cell_type": "markdown",
   "metadata": {},
   "source": [
    "## Back Propagation"
   ]
  },
  {
   "cell_type": "code",
   "execution_count": 61,
   "metadata": {},
   "outputs": [],
   "source": [
    "def linear_backward(dZ, cache):\n",
    "    A_prev, W, b = cache\n",
    "    m = A_prev.shape[1]\n",
    "    dW = (1/m)*np.dot(dZ,A_prev.T)\n",
    "    db = (1/m)*np.sum(dZ,axis=1,keepdims=True)\n",
    "    dA_prev = np.dot(W.T,dZ)\n",
    "    \n",
    "    assert (dA_prev.shape == A_prev.shape)\n",
    "    assert (dW.shape == W.shape)\n",
    "    assert (db.shape == b.shape)\n",
    "    \n",
    "    return dA_prev, dW, db"
   ]
  },
  {
   "cell_type": "code",
   "execution_count": 62,
   "metadata": {},
   "outputs": [],
   "source": [
    "def relu_backward(dA,activation_cache):\n",
    "    return dA* drelu_(activation_cache)"
   ]
  },
  {
   "cell_type": "code",
   "execution_count": 63,
   "metadata": {},
   "outputs": [],
   "source": [
    "def sigmoid_backward(dA,activation_cache):\n",
    "    return dA* dsigmoid_(activation_cache)"
   ]
  },
  {
   "cell_type": "code",
   "execution_count": 64,
   "metadata": {},
   "outputs": [],
   "source": [
    "def linear_activation_backward(dA, cache, activation):\n",
    "    linear_cache, activation_cache = cache\n",
    "    if activation == \"relu\":\n",
    "        dZ = relu_backward(dA,activation_cache)\n",
    "        dA_prev, dW, db = linear_backward(dZ,linear_cache)\n",
    "    \n",
    "    elif activation == \"sigmoid\":\n",
    "        dZ = sigmoid_backward(dA,activation_cache)\n",
    "        dA_prev, dW, db = linear_backward(dZ,linear_cache)\n",
    "    return dA_prev,dW,db"
   ]
  },
  {
   "cell_type": "code",
   "execution_count": 65,
   "metadata": {},
   "outputs": [],
   "source": [
    "# back propogation for L layers\n",
    "def L_model_backward(AL, Y, caches):\n",
    "    grads = {}\n",
    "    L = len(caches)\n",
    "    m = AL.shape[1]\n",
    "    #Y = Y.reshape(AL.shape)\n",
    "    \n",
    "    dAL = - (np.divide(Y, AL) - np.divide(1 - Y, 1 - AL))\n",
    "    \n",
    "    current_cache = caches[L-1]\n",
    "    grads[\"dA\" + str(L-1)], grads[\"dW\" + str(L)], grads[\"db\" + str(L)] = linear_activation_backward(dAL,current_cache,\"sigmoid\")\n",
    "    \n",
    "    for l in reversed(range(L-1)):\n",
    "        current_cache = caches[l]\n",
    "        dA_prev_temp, dW_temp, db_temp = linear_activation_backward(grads[\"dA\"+str(l+1)],current_cache,\"relu\")\n",
    "        grads[\"dA\" + str(l)] = dA_prev_temp\n",
    "        grads[\"dW\" + str(l + 1)] = dW_temp\n",
    "        grads[\"db\" + str(l + 1)] = db_temp\n",
    "    return grads"
   ]
  },
  {
   "cell_type": "markdown",
   "metadata": {},
   "source": [
    "Here dA is the derivative of one particular layer’s activation. The linear_activaton_backward function takes dA and corresponding cache from linear_activation_forward function and outputs the derivative of the activations of the previous layer along with gradients dW and db. This dW, db are used for adjusting parameters W using gradient descent."
   ]
  },
  {
   "cell_type": "markdown",
   "metadata": {},
   "source": [
    "With backpropagation is successfully implemented we need to adjust the weights with the help of computed derivatives (dW and db)."
   ]
  },
  {
   "cell_type": "code",
   "execution_count": 66,
   "metadata": {},
   "outputs": [],
   "source": [
    "#update parameters\n",
    "def update_parameters(parameters, grads, learning_rate):\n",
    "    L = len(parameters) // 2 \n",
    "    for l in range(L):\n",
    "        parameters[\"W\" + str(l+1)] = parameters[\"W\" + str(l+1)]-(learning_rate)*grads[\"dW\"+str(l+1)] \n",
    "        parameters[\"b\" + str(l+1)] = parameters[\"b\" + str(l+1)]-(learning_rate)*grads[\"db\"+str(l+1)]\n",
    "    return parameters"
   ]
  },
  {
   "cell_type": "markdown",
   "metadata": {},
   "source": [
    "# NN with 3 hidden layers and training of model"
   ]
  },
  {
   "cell_type": "code",
   "execution_count": 67,
   "metadata": {},
   "outputs": [],
   "source": [
    "# N layer neural network\n",
    "layers_dims=[n_x, 60,10,10]\n",
    "\n",
    "def L_layer_model(X, Y, layers_dims, learning_rate = 0.005, num_iterations = 3000, print_cost=False):\n",
    "    np.random.seed(1)\n",
    "    costs = [] \n",
    "    \n",
    "    parameters = initialize_parameters_deep(layers_dims)\n",
    "    \n",
    "    for i in range(0, num_iterations):\n",
    "        AL, caches = L_model_forward(X, parameters)\n",
    "        cost = compute_cost(AL, Y)\n",
    "        grads = L_model_backward(AL, Y, caches)\n",
    "        parameters = update_parameters(parameters, grads, learning_rate)\n",
    "        if print_cost and i % 1000 == 0:\n",
    "            print (\"Cost after iteration %i: %f\" %(i, cost))\n",
    "            costs.append(cost)\n",
    "\n",
    "    # plot the cost\n",
    "    plt.plot(np.squeeze(costs))\n",
    "    plt.ylabel('cost')\n",
    "    plt.xlabel('iterations (per tens)')\n",
    "    plt.title(\"Learning rate =\" + str(learning_rate))\n",
    "    plt.show()\n",
    "    \n",
    "    return parameters"
   ]
  },
  {
   "cell_type": "code",
   "execution_count": 70,
   "metadata": {},
   "outputs": [
    {
     "name": "stdout",
     "output_type": "stream",
     "text": [
      "Cost after iteration 0: 6.931433\n",
      "Cost after iteration 1000: 3.774829\n",
      "Cost after iteration 2000: 3.262610\n",
      "Cost after iteration 3000: 3.249175\n",
      "Cost after iteration 4000: 3.248149\n",
      "Cost after iteration 5000: 3.245551\n",
      "Cost after iteration 6000: 3.234484\n",
      "Cost after iteration 7000: 3.108940\n",
      "Cost after iteration 8000: 2.714129\n",
      "Cost after iteration 9000: 2.217460\n",
      "Cost after iteration 10000: 1.924373\n",
      "Cost after iteration 11000: 1.561357\n",
      "Cost after iteration 12000: 1.231272\n",
      "Cost after iteration 13000: 0.951040\n",
      "Cost after iteration 14000: 0.764662\n",
      "Cost after iteration 15000: 0.618042\n",
      "Cost after iteration 16000: 0.489283\n",
      "Cost after iteration 17000: 0.401840\n",
      "Cost after iteration 18000: 0.339931\n",
      "Cost after iteration 19000: 0.289097\n",
      "Cost after iteration 20000: 0.243822\n",
      "Cost after iteration 21000: 0.203796\n",
      "Cost after iteration 22000: 0.171250\n",
      "Cost after iteration 23000: 0.145861\n",
      "Cost after iteration 24000: 0.126011\n",
      "Cost after iteration 25000: 0.109966\n",
      "Cost after iteration 26000: 0.096728\n",
      "Cost after iteration 27000: 0.085565\n",
      "Cost after iteration 28000: 0.075986\n",
      "Cost after iteration 29000: 0.067715\n",
      "Cost after iteration 30000: 0.060625\n",
      "Cost after iteration 31000: 0.054387\n",
      "Cost after iteration 32000: 0.048925\n",
      "Cost after iteration 33000: 0.044133\n",
      "Cost after iteration 34000: 0.039980\n",
      "Cost after iteration 35000: 0.036370\n",
      "Cost after iteration 36000: 0.033191\n",
      "Cost after iteration 37000: 0.030399\n",
      "Cost after iteration 38000: 0.027936\n",
      "Cost after iteration 39000: 0.025773\n",
      "Cost after iteration 40000: 0.023862\n",
      "Cost after iteration 41000: 0.022168\n",
      "Cost after iteration 42000: 0.020654\n",
      "Cost after iteration 43000: 0.019300\n",
      "Cost after iteration 44000: 0.018082\n",
      "Cost after iteration 45000: 0.016986\n",
      "Cost after iteration 46000: 0.015993\n",
      "Cost after iteration 47000: 0.015091\n",
      "Cost after iteration 48000: 0.014269\n",
      "Cost after iteration 49000: 0.013519\n"
     ]
    },
    {
     "data": {
      "image/png": "[encoded data removed]",
      "text/plain": [
       "<Figure size 432x288 with 1 Axes>"
      ]
     },
     "metadata": {
      "needs_background": "light"
     },
     "output_type": "display_data"
    }
   ],
   "source": [
    "parameters = L_layer_model(X_train, Y_train_, layers_dims, num_iterations = 50000, print_cost = True)"
   ]
  },
  {
   "cell_type": "code",
   "execution_count": 71,
   "metadata": {},
   "outputs": [],
   "source": [
    "def predict_L_layer(X,parameters):\n",
    "    AL,caches=L_model_forward(X,parameters)\n",
    "    prediction=np.argmax(AL,axis=0)\n",
    "    return prediction.reshape(1,prediction.shape[0])"
   ]
  },
  {
   "cell_type": "code",
   "execution_count": 72,
   "metadata": {},
   "outputs": [],
   "source": [
    "predictions_train_L = predict_L_layer(X_train, parameters)"
   ]
  },
  {
   "cell_type": "code",
   "execution_count": 73,
   "metadata": {},
   "outputs": [
    {
     "name": "stdout",
     "output_type": "stream",
     "text": [
      "Training Accuracy : 100.0 %\n"
     ]
    }
   ],
   "source": [
    "print(\"Training Accuracy : \"+ str(np.sum(predictions_train_L==y_train)/y_train.shape[1] * 100)+\" %\")"
   ]
  },
  {
   "cell_type": "code",
   "execution_count": 74,
   "metadata": {},
   "outputs": [],
   "source": [
    "predictions_test_L=predict_L_layer(X_test,parameters)"
   ]
  },
  {
   "cell_type": "code",
   "execution_count": 75,
   "metadata": {},
   "outputs": [
    {
     "name": "stdout",
     "output_type": "stream",
     "text": [
      "Testing Accuracy : 97.22222222222221 %\n"
     ]
    }
   ],
   "source": [
    "print(\"Testing Accuracy : \"+ str(np.sum(predictions_test_L==y_test)/y_test.shape[1] * 100)+\" %\")"
   ]
  },
  {
   "cell_type": "code",
   "execution_count": 76,
   "metadata": {},
   "outputs": [],
   "source": [
    "np.save('./training_model/model.npy',parameters)"
   ]
  },
  {
   "cell_type": "code",
   "execution_count": 77,
   "metadata": {},
   "outputs": [],
   "source": [
    "loaded_parameter_array = np.load('./training_model/model.npy', allow_pickle=True)"
   ]
  },
  {
   "cell_type": "code",
   "execution_count": 78,
   "metadata": {},
   "outputs": [
    {
     "name": "stdout",
     "output_type": "stream",
     "text": [
      "W1 [[ 0.01788628 -0.00823179  0.06408945 ... -0.08356922  0.03019335\n",
      "  -0.28369811]\n",
      " [-0.00674728 -0.03508836  0.07160553 ...  0.00090854 -0.08631439\n",
      "   0.00612526]\n",
      " [-0.00648411  0.01347704 -0.02124118 ...  0.08888709  0.13087861\n",
      "   0.04831265]\n",
      " ...\n",
      " [ 0.00209191  0.047964   -0.03162286 ...  0.07645443  0.05096642\n",
      "   0.04215397]\n",
      " [ 0.01243847  0.0245858  -0.06790808 ... -0.01499533  0.1560376\n",
      "   0.05000238]\n",
      " [-0.01009421 -0.03400794 -0.04827499 ... -0.07332486  0.03102079\n",
      "  -0.04313526]]\n",
      "b1 [[ 1.11502751e-01]\n",
      " [ 2.33634316e-01]\n",
      " [ 1.99522746e-04]\n",
      " [ 2.26269861e-02]\n",
      " [-6.70165566e-02]\n",
      " [ 5.63830195e-02]\n",
      " [-3.85005224e-02]\n",
      " [ 1.82390065e-02]\n",
      " [ 5.96301103e-02]\n",
      " [ 1.27644166e-01]\n",
      " [-3.93206325e-03]\n",
      " [ 1.14335020e-02]\n",
      " [ 3.02730735e-03]\n",
      " [-5.71182313e-02]\n",
      " [ 3.50209690e-01]\n",
      " [ 1.19205371e-01]\n",
      " [ 7.12818950e-02]\n",
      " [ 2.07571450e-02]\n",
      " [ 3.86463713e-01]\n",
      " [-3.15744401e-02]\n",
      " [ 1.32745189e-01]\n",
      " [ 1.93615576e-01]\n",
      " [ 3.85313862e-01]\n",
      " [-5.46479298e-02]\n",
      " [ 2.94353621e-02]\n",
      " [ 2.66544566e-01]\n",
      " [ 2.67563046e-01]\n",
      " [ 2.39050656e-01]\n",
      " [-1.28866589e-02]\n",
      " [-2.03770199e-02]\n",
      " [ 1.11804691e-01]\n",
      " [ 2.43572834e-02]\n",
      " [-7.03639573e-03]\n",
      " [ 6.39546277e-02]\n",
      " [ 1.10889869e-01]\n",
      " [ 2.07286344e-01]\n",
      " [ 1.47669109e-02]\n",
      " [ 1.33872655e-02]\n",
      " [-2.17252412e-02]\n",
      " [ 2.40611785e-02]\n",
      " [ 1.59758917e-01]\n",
      " [ 7.43795065e-02]\n",
      " [ 3.41698522e-02]\n",
      " [-2.87229092e-02]\n",
      " [ 1.89775512e-02]\n",
      " [ 3.46497101e-02]\n",
      " [ 6.14862492e-02]\n",
      " [ 4.60668810e-02]\n",
      " [ 4.59327420e-02]\n",
      " [-3.31666351e-02]\n",
      " [ 7.58252466e-02]\n",
      " [ 9.49623767e-02]\n",
      " [ 5.79972539e-02]\n",
      " [ 6.63328257e-03]\n",
      " [ 1.75701268e-01]\n",
      " [ 6.23972116e-02]\n",
      " [ 1.55543159e-01]\n",
      " [ 4.95702480e-02]\n",
      " [ 7.14346392e-02]\n",
      " [ 1.29775875e-01]]\n",
      "W2 [[-1.06921317e-01 -1.47149861e-01  6.97483768e-02  5.00320514e-03\n",
      "   2.00963289e-01  2.05657547e-02  9.72860860e-02  1.60787309e-02\n",
      "   9.40986068e-02  1.38583015e-01  9.66207782e-02  1.25516313e-02\n",
      "   2.07502892e-01 -2.88446860e-02 -1.41990692e-01  1.14394974e-01\n",
      "   3.02511081e-02  2.15173786e-02 -8.15660253e-02  1.70323539e-01\n",
      "   2.81676823e-02  5.87347788e-01 -4.62991483e-02 -4.27271173e-02\n",
      "   2.68710002e-02 -5.06256444e-02  1.22515090e-02  4.11748510e-01\n",
      "   3.27506650e-02  2.95291472e-02  1.35828125e-01  2.80542140e-01\n",
      "   1.68294111e-01  3.33083794e-01  1.87034461e-01  5.18890021e-02\n",
      "   3.06877978e-02 -4.34684607e-02 -3.31718615e-02 -1.83556017e-02\n",
      "  -6.28183895e-02 -1.71696381e-02 -1.21571086e-01  5.48965382e-02\n",
      "  -5.22861685e-03 -2.35947802e-02  1.58161423e-01  8.66872876e-02\n",
      "   1.89928848e-02 -8.35918179e-02  1.89324127e-02  1.57197655e-02\n",
      "  -1.74191834e-02 -4.95781486e-03  7.84996459e-02  7.78122369e-02\n",
      "  -5.20339648e-02 -2.70874830e-02  5.30673828e-02  1.54519016e-01]\n",
      " [ 7.00462780e-01  4.05394232e-02  1.87171580e-02  4.27505179e-01\n",
      "   2.98799652e-01 -3.27953978e-02  1.40641979e-01  4.78435882e-01\n",
      "   6.75636816e-01  2.60400078e-01  5.16003999e-01  5.04096387e-01\n",
      "   1.52212315e-02 -4.19294269e-01 -5.47410107e-02 -1.22206367e-01\n",
      "   9.75707910e-02  4.17919457e-01  1.19029374e-01  7.02916482e-01\n",
      "  -3.21247248e-01  4.93026449e-01  3.78475976e-01 -4.54845457e-01\n",
      "  -1.45248926e-01 -2.85369650e-01  5.46249157e-01  5.16400596e-01\n",
      "  -1.74639743e-01 -1.11874884e-01  1.43991102e-03  2.58405988e-01\n",
      "   4.77724162e-01  1.06950176e+00  4.09080273e-01 -2.22700076e-02\n",
      "   9.23271935e-02  1.98011889e-01  1.31104147e-01  5.83621857e-01\n",
      "   2.94028388e-01  9.23535706e-02  6.45804530e-01  1.00017947e-01\n",
      "   8.24900743e-01  2.15795821e-01  4.04002717e-01  1.05186978e-01\n",
      "  -2.12497912e-01 -2.00166015e-02  8.34034565e-01  2.50228417e-04\n",
      "  -3.80450268e-01  8.30815335e-01  5.91717180e-01  3.64833207e-01\n",
      "  -1.79650477e-01 -2.51778049e-01 -1.97491608e-01 -1.21804840e-01]\n",
      " [ 8.54980607e-01  8.59923739e-02 -1.72818986e-01  2.05149441e-01\n",
      "  -3.82222899e-01  4.03131807e-01 -2.74607559e-01 -1.79358855e-01\n",
      "  -5.72005389e-02  2.21513044e-02 -2.81900034e-02  1.16364305e-01\n",
      "  -2.02140271e-01  6.54892209e-02  3.54488864e-01  6.53953166e-01\n",
      "   3.51064910e-01  6.55813290e-02  7.72938003e-01 -4.24692282e-01\n",
      "   6.23199086e-01  5.82832286e-01 -6.03509060e-02  1.21217094e-01\n",
      "   2.81699397e-01  1.94825953e-01  1.31781635e-01  7.73052743e-01\n",
      "  -8.75210487e-02 -1.91706261e-01 -2.84165635e-01 -5.45780743e-01\n",
      "  -3.74559656e-01  3.08544128e-01 -1.57015439e-01  3.51555079e-01\n",
      "  -9.26810841e-02  3.73046359e-01  1.91935378e-01  1.58209091e-01\n",
      "   1.77258861e-01 -2.95771031e-01  4.10061951e-01 -1.61165507e-01\n",
      "   1.98340995e-01  2.34552623e-01 -2.68059229e-01 -9.20711112e-02\n",
      "   9.29515141e-02 -1.89859514e-01  3.25108328e-01  1.84386747e-01\n",
      "   7.79343378e-02  1.45476310e-01  1.07001323e+00  1.79418218e-01\n",
      "  -3.85400727e-02  9.13104961e-02  1.56389403e-01  2.38585681e-01]\n",
      " [ 4.23663771e-01 -3.45788935e-02  9.48894192e-03  1.71506535e-01\n",
      "   4.01828879e-01  3.89964098e-01  8.52854420e-02  7.98607104e-02\n",
      "  -3.83374226e-01  1.26264834e-01 -3.55650109e-02  6.23195604e-02\n",
      "   3.65387628e-01 -1.48039917e-01 -1.30890167e-01  5.74803277e-01\n",
      "   1.91995186e-01  3.51136685e-01  7.95668732e-01  5.38702789e-01\n",
      "   4.66189121e-01 -6.38751598e-01 -2.91415596e-01 -8.01765921e-02\n",
      "   3.47731063e-01 -1.72049597e-01 -2.20504269e-01  1.48003145e-01\n",
      "  -2.03870011e-02 -2.49559382e-02  9.16944622e-02  9.09265990e-01\n",
      "   2.71204301e-02 -3.64050316e-01  5.81341219e-01  6.55585351e-02\n",
      "   3.42721693e-04  2.65135955e-01  1.28632283e-01  1.78251625e-01\n",
      "  -2.73871480e-01 -6.24813497e-02  5.77924689e-01  5.33671012e-02\n",
      "   9.92843551e-02  9.96770534e-02  7.03678330e-01  1.49591846e-01\n",
      "   3.78062472e-01 -3.10491085e-01  8.91998259e-02  1.46648237e-01\n",
      "   2.37280177e-01  2.33313291e-01  1.00420734e+00  3.17813135e-01\n",
      "  -3.51552810e-01 -3.35469579e-02  2.51860460e-01  7.36325820e-01]\n",
      " [-3.73589623e-01  1.14768956e-01  6.18263950e-01 -1.84164953e-01\n",
      "   2.00458019e-01  3.51933961e-01  4.63415676e-01 -1.13842476e-01\n",
      "  -3.15408375e-01  3.93547665e-01 -4.50323418e-02 -2.64372893e-01\n",
      "   7.37898762e-01  9.41771782e-01  4.21564223e-01  6.85950884e-01\n",
      "   1.88095436e-01 -1.60142369e-01 -7.98800008e-02  3.04746973e-01\n",
      "   8.42778737e-01  8.18017824e-01 -1.13426094e-01  1.08284424e+00\n",
      "   1.73007681e-01  8.04772492e-01 -5.64048111e-02  6.43231068e-02\n",
      "   4.09049259e-01  7.62968566e-01  6.97332472e-01  2.65184701e-01\n",
      "  -1.34813479e-01  1.01671500e-01  1.80896987e-01  8.36932614e-01\n",
      "   2.13997311e-01  4.37998673e-02  1.60404499e-03 -3.21167603e-01\n",
      "   3.70949885e-02  1.15876978e-01 -3.08400355e-01  2.55784225e-01\n",
      "  -4.35025541e-01 -1.21859556e-01 -8.75931652e-02  3.30998777e-01\n",
      "  -1.35151017e-01  1.06015861e+00 -4.09577528e-01  2.68584273e-01\n",
      "  -5.25421629e-02 -4.11829254e-01  1.43764387e-01 -3.01164290e-01\n",
      "   3.85852943e-01  5.93313966e-01  6.41660416e-01  4.05383558e-01]\n",
      " [ 5.63124862e-04 -1.76649910e-03 -5.44155961e-03  2.24662176e-03\n",
      "   2.39927249e-03 -3.13051848e-03 -9.91034007e-03 -2.82753145e-03\n",
      "  -7.43705133e-03  1.39102624e-03  8.67771439e-03  6.85653309e-03\n",
      "   1.41213512e-02 -1.84069281e-02  1.56338311e-02 -1.26752979e-02\n",
      "   3.79814756e-03 -2.28712876e-03  7.21137639e-03 -1.06330554e-02\n",
      "   6.52087691e-03 -1.82144701e-02  1.27445387e-02 -1.09033138e-02\n",
      "   2.21622018e-02 -5.47981157e-03 -2.33334319e-03 -2.68854102e-03\n",
      "   4.53312921e-03 -2.36093860e-03 -3.37166076e-03 -6.61125883e-03\n",
      "  -2.82834591e-03  9.78007177e-03 -6.11028485e-03  1.11035383e-03\n",
      "  -5.75265958e-03 -4.02572256e-03  2.59644227e-03 -5.66552248e-05\n",
      "  -1.31195272e-02  3.15685438e-03 -2.30962497e-03  1.65657723e-03\n",
      "   1.95839546e-02 -1.30529495e-03 -1.76508710e-02  1.18267470e-02\n",
      "  -1.05280963e-02 -6.75393916e-03 -1.00859454e-02  5.46209072e-03\n",
      "  -1.74866442e-02 -1.01475246e-02 -1.09607123e-02  5.12842037e-03\n",
      "   1.85431656e-03 -2.04196582e-03 -1.65335482e-03 -1.06541660e-02]\n",
      " [-1.53697828e-01 -4.95911338e-02  9.11523670e-02 -7.00673827e-02\n",
      "   4.98786960e-01 -1.48049485e-01  9.27789479e-02  1.94342585e-01\n",
      "  -9.44049432e-02 -8.67836343e-02  4.59086514e-01 -1.42774603e-01\n",
      "  -3.35398944e-02  4.27588680e-01 -3.10045325e-01 -1.48196107e-01\n",
      "  -1.51231935e-01  1.30602501e-01 -5.87379508e-01  8.01423371e-01\n",
      "   7.45953907e-02 -3.41721415e-01 -5.10904992e-02  3.24300563e-01\n",
      "  -8.93653798e-02  1.04654357e-01 -3.86251770e-02 -3.01532182e-01\n",
      "   3.70598027e-01  1.77617234e-01  2.47214980e-01  8.77855079e-01\n",
      "   7.28455085e-01 -1.19716303e-01  5.80573637e-02 -3.56516942e-03\n",
      "   6.10270493e-01 -1.54652936e-01 -3.05908924e-02 -1.39923673e-01\n",
      "  -2.69662857e-01  7.88264628e-01 -1.50388667e-01  4.33976138e-02\n",
      "  -2.02438038e-01 -6.87367948e-02  2.06771316e-01  1.19282835e-03\n",
      "   8.03664981e-01  1.06905368e-01 -3.48112816e-01  5.18890185e-03\n",
      "   4.27669719e-01 -5.11453632e-02 -2.31397709e-01 -5.34349604e-02\n",
      "   7.25510131e-01  1.62017054e-01 -3.96984169e-03  4.60271142e-02]\n",
      " [-1.20382433e-02  3.72591877e-03  6.25142919e-03 -1.06161965e-02\n",
      "  -6.16205443e-03 -2.21245682e-04  6.58340421e-05 -1.27661658e-02\n",
      "  -1.76659473e-02 -6.60183054e-03  9.11481753e-04  5.35216940e-03\n",
      "  -5.27204944e-03  1.63462991e-02 -1.38024797e-02 -5.62402289e-03\n",
      "  -3.95440585e-04  6.12396671e-04  8.37670455e-04 -9.66804450e-03\n",
      "  -9.33286415e-03 -1.67158740e-02  4.69201270e-03 -8.51535192e-03\n",
      "  -5.00461110e-04  8.67733597e-03 -1.09982902e-03 -1.46179113e-02\n",
      "  -3.13585627e-03  1.61331463e-03  1.55520247e-02  1.67500677e-03\n",
      "  -9.82174804e-03  3.32661124e-02  9.28027088e-03  3.39984562e-03\n",
      "  -1.01787810e-02 -1.36999438e-02 -1.49199394e-03  8.39320511e-04\n",
      "  -6.45918272e-03  3.48838105e-03 -2.23413253e-03 -1.73663275e-02\n",
      "   1.55024626e-02 -1.93993753e-02  8.89777980e-03 -6.31471688e-03\n",
      "  -2.42315097e-02 -1.06494412e-02  1.01545476e-02 -1.61614808e-02\n",
      "  -7.18954227e-03  1.20291071e-02 -1.13736591e-02  4.83849506e-03\n",
      "  -1.62402168e-02 -2.14449404e-03 -3.85671775e-03 -2.01067098e-03]\n",
      " [-4.85385332e-02  6.67103248e-01 -6.56170546e-02 -5.91640255e-02\n",
      "  -6.07113643e-02 -3.15997046e-01 -9.19963294e-02  2.50271209e-01\n",
      "   4.05142734e-01 -2.52840294e-01  4.94344880e-01  2.65463000e-02\n",
      "  -3.76627470e-01  2.71884782e-01  7.01162725e-01 -3.64461505e-01\n",
      "  -2.19050821e-01 -5.95805722e-02  2.05101566e-01  2.53349104e-01\n",
      "   1.32493946e-01 -4.27152349e-01  9.88920653e-01  1.57513625e-01\n",
      "  -1.77619528e-01  3.76761279e-01  7.49422459e-01 -4.51668401e-01\n",
      "   8.22618864e-02 -4.15953969e-02 -1.59527621e-02 -1.46547354e-02\n",
      "   5.31342253e-01 -1.52104363e-01 -3.56235179e-01  1.66016947e-01\n",
      "   3.21431902e-01 -1.47448787e-01 -7.40723186e-02 -8.66347981e-03\n",
      "   3.73768432e-01  8.77292812e-01 -8.59489594e-02 -9.67906189e-02\n",
      "   8.28953559e-02 -3.36987257e-02 -2.98329327e-01 -2.02371648e-01\n",
      "   8.58005935e-01  3.31888577e-01  1.86027640e-02 -4.32212569e-02\n",
      "   5.37273042e-01  8.33570768e-02 -3.60772245e-01 -7.64919958e-02\n",
      "   7.93409963e-01  1.43077418e-01 -1.85093755e-01 -2.57909468e-01]\n",
      " [ 6.79478687e-01 -6.33925315e-02 -6.74287179e-02  3.51817163e-01\n",
      "   2.24853471e-02  3.72929548e-02 -4.94791969e-02  3.77300662e-01\n",
      "   4.70242472e-01 -3.35789836e-02  4.60502968e-01  4.55270714e-01\n",
      "  -1.61579770e-01 -2.58871159e-02 -1.28536774e-01 -1.32372161e-01\n",
      "  -1.19232520e-02  4.01594576e-01 -2.46496080e-01  3.13027755e-01\n",
      "  -1.96109952e-01 -4.10019000e-01  1.47489745e-01 -4.90120221e-02\n",
      "   9.75054292e-03 -2.71616448e-02  2.28963453e-01 -1.83381000e-01\n",
      "   4.53224470e-02 -6.09986166e-02 -5.07208689e-02  2.34584322e-03\n",
      "   4.68593925e-01  3.25785667e-02  4.17508048e-02 -2.16162709e-01\n",
      "   2.10025444e-01  1.89712802e-02  5.69511928e-02  5.33575003e-01\n",
      "   1.69844488e-01  3.16455939e-01  3.61361070e-01 -5.40299410e-02\n",
      "   7.19422180e-01  2.39509340e-01  2.19019763e-01 -4.64207994e-02\n",
      "   2.55229947e-01 -1.07086196e-01  6.57432023e-01 -3.15035244e-02\n",
      "   7.01656910e-02  7.63303095e-01 -5.61602675e-02  2.85952638e-02\n",
      "   7.05909033e-02 -4.54658660e-02 -6.08958273e-02 -1.75657634e-01]]\n",
      "b2 [[ 0.04062317]\n",
      " [ 1.07858417]\n",
      " [ 0.58266197]\n",
      " [-0.12938637]\n",
      " [ 1.23229043]\n",
      " [-0.00316371]\n",
      " [-0.40884552]\n",
      " [-0.00390794]\n",
      " [ 0.70617454]\n",
      " [-0.24621196]]\n",
      "W3 [[-9.64909704e-02 -1.54757758e-01  4.68109075e-01  3.60644229e-01\n",
      "  -2.04134506e+00  4.28318049e-04 -4.56020225e-01  9.80879349e-03\n",
      "  -1.06207377e+00  2.53676817e-01]\n",
      " [-7.79004436e-02 -1.52003285e+00 -6.75818812e-01 -1.00921384e-01\n",
      "  -1.30308028e+00  1.48922943e-03  1.29446164e+00  3.98990934e-04\n",
      "   9.49985028e-01 -2.04027471e-01]\n",
      " [-1.80810144e-01 -1.68945252e+00 -1.22211347e+00 -9.56340731e-01\n",
      "   5.45785538e-01 -8.71274378e-03  9.45380091e-02  1.60953130e-02\n",
      "  -1.05132010e-01 -4.62716856e-01]\n",
      " [ 2.38953070e-01 -1.99589729e+00  3.27048715e-01  3.83418044e-02\n",
      "   4.40385543e-01  1.29238041e-02 -1.03126826e+00  9.41657515e-03\n",
      "  -1.33734044e+00 -2.11398810e-01]\n",
      " [ 1.81762509e-01 -8.74813810e-02 -1.10868611e+00  7.23207879e-01\n",
      "  -1.81210648e+00  4.40241690e-03  2.95561598e-01 -1.68814463e-02\n",
      "  -1.58848734e-01  2.09215407e-01]\n",
      " [ 6.64960138e-01  8.44975565e-01  6.29835593e-02 -1.44480194e+00\n",
      "  -1.55541412e-01 -2.27503772e-03 -3.28912413e-01 -1.66460523e-03\n",
      "  -1.05210136e+00 -1.19253085e+00]\n",
      " [-1.74655366e-01  3.60517335e-02 -4.29304689e-01 -1.39361943e+00\n",
      "  -1.33203640e+00 -2.08065881e-03 -1.10888087e+00 -6.06582369e-03\n",
      "   2.61656250e-01  5.73353726e-01]\n",
      " [ 3.68669613e-01  3.66066024e-02 -1.42558983e+00  8.64550356e-01\n",
      "   6.61356243e-02 -1.63865408e-03  6.25282012e-02 -4.63576077e-03\n",
      "  -1.27534098e+00 -6.33263670e-01]\n",
      " [-6.21058446e-01 -3.77259037e-01  2.67177200e-01 -6.25852458e-01\n",
      "  -5.23137009e-01  8.08506726e-03 -1.54193318e+00 -1.15316118e-02\n",
      "   1.25405022e+00 -9.84856677e-01]\n",
      " [-1.15003744e-01 -1.05626755e+00  1.32223228e+00  1.04631115e+00\n",
      "  -1.42606050e+00  5.36092197e-03 -1.44905160e-01  8.14577391e-03\n",
      "  -4.48566545e-01 -1.11698557e+00]]\n",
      "b3 [[-2.03732406]\n",
      " [-1.54756717]\n",
      " [-2.00777485]\n",
      " [-1.8083521 ]\n",
      " [-2.58289217]\n",
      " [-0.42436954]\n",
      " [-0.97827928]\n",
      " [-1.20875021]\n",
      " [ 0.93701733]\n",
      " [-1.34538435]]\n"
     ]
    }
   ],
   "source": [
    "loaded_parameters = dict()\n",
    "for key, key_d in loaded_parameter_array.item().items():\n",
    "    print(key, key_d)\n",
    "    loaded_parameters[key] = key_d"
   ]
  },
  {
   "cell_type": "code",
   "execution_count": 79,
   "metadata": {},
   "outputs": [],
   "source": [
    "loaded_img = plt.imread(\"test.png\")"
   ]
  },
  {
   "cell_type": "code",
   "execution_count": 84,
   "metadata": {},
   "outputs": [],
   "source": [
    "def rgb2gray(rgb):\n",
    "    return np.dot(rgb[...,:3], [0.299, 0.587, 0.114])\n",
    "def rebin(a, shape):\n",
    "    sh = shape[0],a.shape[0]//shape[0],shape[1],a.shape[1]//shape[1]\n",
    "    return a.reshape(sh).mean(-1).mean(1)"
   ]
  },
  {
   "cell_type": "code",
   "execution_count": 85,
   "metadata": {},
   "outputs": [],
   "source": [
    "gray_img = rgb2gray(loaded_img)"
   ]
  },
  {
   "cell_type": "code",
   "execution_count": 86,
   "metadata": {},
   "outputs": [],
   "source": [
    "grayimg1 = rebin(gray_img, (8,8))/255*16"
   ]
  },
  {
   "cell_type": "code",
   "execution_count": 1,
   "metadata": {},
   "outputs": [
    {
     "ename": "NameError",
     "evalue": "name 'plt' is not defined",
     "output_type": "error",
     "traceback": [
      "\u001b[1;31m---------------------------------------------------------------------------\u001b[0m",
      "\u001b[1;31mNameError\u001b[0m                                 Traceback (most recent call last)",
      "\u001b[1;32m<ipython-input-1-4cdf3ef51952>\u001b[0m in \u001b[0;36m<module>\u001b[1;34m\u001b[0m\n\u001b[1;32m----> 1\u001b[1;33m \u001b[0mplt\u001b[0m\u001b[1;33m.\u001b[0m\u001b[0mimshow\u001b[0m\u001b[1;33m(\u001b[0m\u001b[0mgrayimg1\u001b[0m\u001b[1;33m,\u001b[0m \u001b[0mcmap\u001b[0m\u001b[1;33m=\u001b[0m\u001b[1;34m'gray'\u001b[0m\u001b[1;33m)\u001b[0m\u001b[1;33m\u001b[0m\u001b[1;33m\u001b[0m\u001b[0m\n\u001b[0m\u001b[0;32m      2\u001b[0m \u001b[0mplt\u001b[0m\u001b[1;33m.\u001b[0m\u001b[0mshow\u001b[0m\u001b[1;33m(\u001b[0m\u001b[1;33m)\u001b[0m\u001b[1;33m\u001b[0m\u001b[1;33m\u001b[0m\u001b[0m\n",
      "\u001b[1;31mNameError\u001b[0m: name 'plt' is not defined"
     ]
    }
   ],
   "source": [
    "plt.imshow(grayimg1, cmap='gray')\n",
    "plt.show()"
   ]
  },
  {
   "cell_type": "code",
   "execution_count": 89,
   "metadata": {},
   "outputs": [
    {
     "name": "stdout",
     "output_type": "stream",
     "text": [
      "Predicted digit is : [[4]]\n"
     ]
    }
   ],
   "source": [
    "training_img=grayimg1.reshape((64,1)).T\n",
    "training_img = sc.transform(training_img)\n",
    "training_img=training_img.T\n",
    "predicted_digit=predict_L_layer(training_img,loaded_parameters)\n",
    "print('Predicted digit is : '+str(predicted_digit))"
   ]
  },
  {
   "cell_type": "code",
   "execution_count": 90,
   "metadata": {},
   "outputs": [
    {
     "data": {
      "image/png": "[encoded data removed]",
      "text/plain": [
       "<Figure size 432x288 with 1 Axes>"
      ]
     },
     "metadata": {
      "needs_background": "light"
     },
     "output_type": "display_data"
    },
    {
     "name": "stdout",
     "output_type": "stream",
     "text": [
      "Predicted digit is : [[0]]\n",
      "True digit is: 0\n"
     ]
    },
    {
     "data": {
      "image/png": "[encoded data removed]",
      "text/plain": [
       "<Figure size 432x288 with 1 Axes>"
      ]
     },
     "metadata": {
      "needs_background": "light"
     },
     "output_type": "display_data"
    },
    {
     "name": "stdout",
     "output_type": "stream",
     "text": [
      "Predicted digit is : [[4]]\n",
      "True digit is: 4\n"
     ]
    },
    {
     "data": {
      "image/png": "[encoded data removed]",
      "text/plain": [
       "<Figure size 432x288 with 1 Axes>"
      ]
     },
     "metadata": {
      "needs_background": "light"
     },
     "output_type": "display_data"
    },
    {
     "name": "stdout",
     "output_type": "stream",
     "text": [
      "Predicted digit is : [[7]]\n",
      "True digit is: 7\n"
     ]
    },
    {
     "data": {
      "image/png": "[encoded data removed]",
      "text/plain": [
       "<Figure size 432x288 with 1 Axes>"
      ]
     },
     "metadata": {
      "needs_background": "light"
     },
     "output_type": "display_data"
    },
    {
     "name": "stdout",
     "output_type": "stream",
     "text": [
      "Predicted digit is : [[9]]\n",
      "True digit is: 9\n"
     ]
    },
    {
     "data": {
      "image/png": "[encoded data removed]",
      "text/plain": [
       "<Figure size 432x288 with 1 Axes>"
      ]
     },
     "metadata": {
      "needs_background": "light"
     },
     "output_type": "display_data"
    },
    {
     "name": "stdout",
     "output_type": "stream",
     "text": [
      "Predicted digit is : [[9]]\n",
      "True digit is: 9\n"
     ]
    },
    {
     "data": {
      "image/png": "[encoded data removed]",
      "text/plain": [
       "<Figure size 432x288 with 1 Axes>"
      ]
     },
     "metadata": {
      "needs_background": "light"
     },
     "output_type": "display_data"
    },
    {
     "name": "stdout",
     "output_type": "stream",
     "text": [
      "Predicted digit is : [[2]]\n",
      "True digit is: 2\n"
     ]
    },
    {
     "data": {
      "image/png": "[encoded data removed]",
      "text/plain": [
       "<Figure size 432x288 with 1 Axes>"
      ]
     },
     "metadata": {
      "needs_background": "light"
     },
     "output_type": "display_data"
    },
    {
     "name": "stdout",
     "output_type": "stream",
     "text": [
      "Predicted digit is : [[0]]\n",
      "True digit is: 0\n"
     ]
    },
    {
     "data": {
      "image/png": "[encoded data removed]",
      "text/plain": [
       "<Figure size 432x288 with 1 Axes>"
      ]
     },
     "metadata": {
      "needs_background": "light"
     },
     "output_type": "display_data"
    },
    {
     "name": "stdout",
     "output_type": "stream",
     "text": [
      "Predicted digit is : [[8]]\n",
      "True digit is: 8\n"
     ]
    },
    {
     "data": {
      "image/png": "[encoded data removed]",
      "text/plain": [
       "<Figure size 432x288 with 1 Axes>"
      ]
     },
     "metadata": {
      "needs_background": "light"
     },
     "output_type": "display_data"
    },
    {
     "name": "stdout",
     "output_type": "stream",
     "text": [
      "Predicted digit is : [[0]]\n",
      "True digit is: 0\n"
     ]
    },
    {
     "data": {
      "image/png": "[encoded data removed]",
      "text/plain": [
       "<Figure size 432x288 with 1 Axes>"
      ]
     },
     "metadata": {
      "needs_background": "light"
     },
     "output_type": "display_data"
    },
    {
     "name": "stdout",
     "output_type": "stream",
     "text": [
      "Predicted digit is : [[3]]\n",
      "True digit is: 3\n"
     ]
    },
    {
     "data": {
      "image/png": "[encoded data removed]",
      "text/plain": [
       "<Figure size 432x288 with 1 Axes>"
      ]
     },
     "metadata": {
      "needs_background": "light"
     },
     "output_type": "display_data"
    },
    {
     "name": "stdout",
     "output_type": "stream",
     "text": [
      "Predicted digit is : [[6]]\n",
      "True digit is: 6\n"
     ]
    },
    {
     "data": {
      "image/png": "[encoded data removed]",
      "text/plain": [
       "<Figure size 432x288 with 1 Axes>"
      ]
     },
     "metadata": {
      "needs_background": "light"
     },
     "output_type": "display_data"
    },
    {
     "name": "stdout",
     "output_type": "stream",
     "text": [
      "Predicted digit is : [[2]]\n",
      "True digit is: 2\n"
     ]
    },
    {
     "data": {
      "image/png": "[encoded data removed]",
      "text/plain": [
       "<Figure size 432x288 with 1 Axes>"
      ]
     },
     "metadata": {
      "needs_background": "light"
     },
     "output_type": "display_data"
    },
    {
     "name": "stdout",
     "output_type": "stream",
     "text": [
      "Predicted digit is : [[8]]\n",
      "True digit is: 8\n"
     ]
    },
    {
     "data": {
      "image/png": "[encoded data removed]",
      "text/plain": [
       "<Figure size 432x288 with 1 Axes>"
      ]
     },
     "metadata": {
      "needs_background": "light"
     },
     "output_type": "display_data"
    },
    {
     "name": "stdout",
     "output_type": "stream",
     "text": [
      "Predicted digit is : [[6]]\n",
      "True digit is: 6\n"
     ]
    },
    {
     "data": {
      "image/png": "[encoded data removed]",
      "text/plain": [
       "<Figure size 432x288 with 1 Axes>"
      ]
     },
     "metadata": {
      "needs_background": "light"
     },
     "output_type": "display_data"
    },
    {
     "name": "stdout",
     "output_type": "stream",
     "text": [
      "Predicted digit is : [[9]]\n",
      "True digit is: 9\n"
     ]
    }
   ],
   "source": [
    "import random\n",
    "for j in range(15):\n",
    "    i=random.randint(0,n_samples)\n",
    "    plt.imshow(number_data.images[i],  cmap='gray')\n",
    "    plt.show()\n",
    "      \n",
    "    training_img=number_data.images[i].reshape((64,1)).T\n",
    "    training_img = sc.transform(training_img)\n",
    "    training_img=training_img.T\n",
    "    predicted_digit=predict_L_layer(training_img,loaded_parameters)\n",
    "    print('Predicted digit is : '+str(predicted_digit))\n",
    "    print('True digit is: '+ str(y[i]))"
   ]
  },
  {
   "cell_type": "code",
   "execution_count": null,
   "metadata": {},
   "outputs": [],
   "source": []
  }
 ],
 "metadata": {
  "interpreter": {
   "hash": "1850d8fdad53951039198cf078678353ec8240d46654b6223c5cdccca450a5fc"
  },
  "kernelspec": {
   "display_name": "Python 3.8.5 64-bit ('base': conda)",
   "name": "python3"
  },
  "language_info": {
   "codemirror_mode": {
    "name": "ipython",
    "version": 3
   },
   "file_extension": ".py",
   "mimetype": "text/x-python",
   "name": "python",
   "nbconvert_exporter": "python",
   "pygments_lexer": "ipython3",
   "version": "3.8.5"
  },
  "orig_nbformat": 4
 },
 "nbformat": 4,
 "nbformat_minor": 2
}
