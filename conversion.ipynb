{
 "cells": [
  {
   "cell_type": "code",
   "execution_count": 1,
   "metadata": {},
   "outputs": [],
   "source": [
    "import numpy as np\n",
    "import matplotlib.pyplot as plt\n",
    "import matplotlib.image"
   ]
  },
  {
   "cell_type": "code",
   "execution_count": 2,
   "metadata": {},
   "outputs": [],
   "source": [
    "img = np.load('./data/number.npy', allow_pickle=True)"
   ]
  },
  {
   "cell_type": "code",
   "execution_count": 3,
   "metadata": {},
   "outputs": [],
   "source": [
    "def rgb2gray(rgb):\n",
    "    return np.dot(rgb[...,:3], [0.299, 0.587, 0.114])"
   ]
  },
  {
   "cell_type": "code",
   "execution_count": 4,
   "metadata": {},
   "outputs": [],
   "source": [
    "gray_img = rgb2gray(img)"
   ]
  },
  {
   "cell_type": "code",
   "execution_count": 5,
   "metadata": {},
   "outputs": [],
   "source": [
    "def rebin(a, shape):\n",
    "    sh = shape[0],a.shape[0]//shape[0],shape[1],a.shape[1]//shape[1]\n",
    "    return a.reshape(sh).mean(-1).mean(1)"
   ]
  },
  {
   "cell_type": "code",
   "execution_count": 6,
   "metadata": {},
   "outputs": [],
   "source": [
    "img1 = rebin(gray_img, (8,8))/255*16"
   ]
  },
  {
   "cell_type": "code",
   "execution_count": 7,
   "metadata": {},
   "outputs": [
    {
     "data": {
      "text/plain": [
       "array([[0., 0., 0., 0., 0., 0., 0., 0.],\n",
       "       [0., 0., 0., 0., 0., 0., 0., 0.],\n",
       "       [0., 0., 0., 0., 0., 0., 0., 0.],\n",
       "       [0., 0., 0., 0., 0., 0., 0., 0.],\n",
       "       [0., 0., 0., 0., 0., 0., 0., 0.],\n",
       "       [0., 0., 0., 0., 0., 0., 0., 0.],\n",
       "       [0., 0., 0., 0., 0., 0., 0., 0.],\n",
       "       [0., 0., 0., 0., 0., 0., 0., 0.]])"
      ]
     },
     "execution_count": 7,
     "metadata": {},
     "output_type": "execute_result"
    }
   ],
   "source": [
    "img1"
   ]
  },
  {
   "cell_type": "code",
   "execution_count": 8,
   "metadata": {},
   "outputs": [
    {
     "data": {
      "image/png": "[encoded data removed]",
      "text/plain": [
       "<Figure size 432x288 with 1 Axes>"
      ]
     },
     "metadata": {
      "needs_background": "light"
     },
     "output_type": "display_data"
    }
   ],
   "source": [
    "plt.imshow(img1,  cmap='gray')\n",
    "plt.title(f'First Number: 1')\n",
    "plt.show()"
   ]
  },
  {
   "cell_type": "code",
   "execution_count": 9,
   "metadata": {},
   "outputs": [],
   "source": [
    "matplotlib.image.imsave('test.png',img1)"
   ]
  },
  {
   "cell_type": "markdown",
   "metadata": {},
   "source": [
    "# TODO: \n",
    "* Save Image\n",
    "* Directly Label Image\n",
    "* store more information like given by sklearn data"
   ]
  },
  {
   "cell_type": "code",
   "execution_count": 210,
   "metadata": {},
   "outputs": [],
   "source": [
    "def init_dataset():\n",
    "    data = dict()\n",
    "    loaded_img = plt.imread(\"./data/img/img_20211023-132410_2.png\")\n",
    "    loaded_img_gray = rgb2gray(loaded_img)\n",
    "    loaded_img_transformed= rebin(loaded_img_gray, (8,8))*16\n",
    "    data['label'] = [2]\n",
    "    data['images'] = [loaded_img_transformed]\n",
    "    np.save(\"./data/dataset.npy\", data)\n",
    "\n",
    "    "
   ]
  },
  {
   "cell_type": "code",
   "execution_count": 211,
   "metadata": {},
   "outputs": [],
   "source": [
    "def load_dataset(path: str):\n",
    "    data = np.load(path, allow_pickle=True)\n",
    "    loaded_data = dict()\n",
    "    for key, key_d in data.item().items():\n",
    "        loaded_data[key] = key_d\n",
    "    return loaded_data"
   ]
  },
  {
   "cell_type": "code",
   "execution_count": 224,
   "metadata": {},
   "outputs": [],
   "source": [
    "def append_dataset(label: int, img: np.ndarray):\n",
    "    loaded_data = load_dataset(\"./data/dataset.npy\")\n",
    "    labels = loaded_data['label']\n",
    "    images =  loaded_data['images']\n",
    "    \n",
    "    labels.append(label)\n",
    "    images.append(img)\n",
    "\n",
    "    loaded_data['label'] = labels\n",
    "    loaded_data['images']=images\n",
    "    np.save(\"./data/dataset.npy\", loaded_data)"
   ]
  },
  {
   "cell_type": "code",
   "execution_count": 225,
   "metadata": {},
   "outputs": [],
   "source": [
    "def load_example_image():\n",
    "    loaded_img = plt.imread(\"./data/img/img_20211023-132410_2.png\")\n",
    "    loaded_img_gray = rgb2gray(loaded_img)\n",
    "    loaded_img_transformed= rebin(loaded_img_gray, (8,8))*16\n",
    "    return loaded_img_transformed"
   ]
  },
  {
   "cell_type": "code",
   "execution_count": 235,
   "metadata": {},
   "outputs": [],
   "source": [
    "init_dataset()"
   ]
  },
  {
   "cell_type": "code",
   "execution_count": 227,
   "metadata": {},
   "outputs": [
    {
     "data": {
      "text/plain": [
       "array({'label': [2], 'images': [array([[ 1.91341185,  1.91341185,  1.91341185,  1.91341185,  1.91341185,\n",
       "         1.91341185,  1.91341185,  1.91341185],\n",
       "       [ 1.91341185,  6.03996873, 12.37082365, 12.05421192,  4.54676104,\n",
       "         1.91341185,  1.91341185,  1.91341185],\n",
       "       [ 1.91341185,  3.25684713,  3.03692558,  7.91504341,  6.47987486,\n",
       "         1.91341185,  1.91341185,  1.91341185],\n",
       "       [ 1.91341185,  1.91341185,  4.20611779, 12.41995306,  2.97418048,\n",
       "         1.91341185,  1.91341185,  1.91341185],\n",
       "       [ 1.91341185,  1.91341185,  9.71444724,  6.05803931,  1.91341185,\n",
       "         1.91341185,  1.91341185,  1.91341185],\n",
       "       [ 1.91341185,  3.33766288, 13.51203144, 12.25449425, 11.37593745,\n",
       "         6.47987486,  1.91341185,  1.91341185],\n",
       "       [ 1.91341185,  1.91341185,  1.91341185,  2.97418048,  3.74443933,\n",
       "         2.58547459,  1.91341185,  1.91341185],\n",
       "       [ 1.91341185,  1.91341185,  1.91341185,  1.91341185,  1.91341185,\n",
       "         1.91341185,  1.91341185,  1.91341185]])]}, dtype=object)"
      ]
     },
     "execution_count": 227,
     "metadata": {},
     "output_type": "execute_result"
    }
   ],
   "source": [
    "np.load(\"./data/dataset.npy\", allow_pickle=True)"
   ]
  },
  {
   "cell_type": "code",
   "execution_count": 228,
   "metadata": {},
   "outputs": [],
   "source": [
    "data = load_dataset(\"./data/dataset.npy\")"
   ]
  },
  {
   "cell_type": "code",
   "execution_count": 229,
   "metadata": {},
   "outputs": [],
   "source": [
    "loaded_img = load_example_image()\n",
    "append_dataset(2, loaded_img)"
   ]
  },
  {
   "cell_type": "code",
   "execution_count": 238,
   "metadata": {},
   "outputs": [],
   "source": [
    "data = load_dataset(\"./data/dataset.npy\")"
   ]
  },
  {
   "cell_type": "code",
   "execution_count": 239,
   "metadata": {},
   "outputs": [
    {
     "data": {
      "text/plain": [
       "{'label': [2, '4'],\n",
       " 'images': [array([[ 1.91341185,  1.91341185,  1.91341185,  1.91341185,  1.91341185,\n",
       "           1.91341185,  1.91341185,  1.91341185],\n",
       "         [ 1.91341185,  6.03996873, 12.37082365, 12.05421192,  4.54676104,\n",
       "           1.91341185,  1.91341185,  1.91341185],\n",
       "         [ 1.91341185,  3.25684713,  3.03692558,  7.91504341,  6.47987486,\n",
       "           1.91341185,  1.91341185,  1.91341185],\n",
       "         [ 1.91341185,  1.91341185,  4.20611779, 12.41995306,  2.97418048,\n",
       "           1.91341185,  1.91341185,  1.91341185],\n",
       "         [ 1.91341185,  1.91341185,  9.71444724,  6.05803931,  1.91341185,\n",
       "           1.91341185,  1.91341185,  1.91341185],\n",
       "         [ 1.91341185,  3.33766288, 13.51203144, 12.25449425, 11.37593745,\n",
       "           6.47987486,  1.91341185,  1.91341185],\n",
       "         [ 1.91341185,  1.91341185,  1.91341185,  2.97418048,  3.74443933,\n",
       "           2.58547459,  1.91341185,  1.91341185],\n",
       "         [ 1.91341185,  1.91341185,  1.91341185,  1.91341185,  1.91341185,\n",
       "           1.91341185,  1.91341185,  1.91341185]]),\n",
       "  array([[ 0.        ,  0.        ,  0.        ,  1.56232784,  0.        ,\n",
       "           0.        ,  0.        ,  0.        ],\n",
       "         [ 0.        ,  0.        ,  1.4629898 , 13.14140863,  0.        ,\n",
       "           0.        ,  0.        ,  0.        ],\n",
       "         [ 0.        ,  0.        ,  6.34957804,  8.95349961,  0.        ,\n",
       "           0.        ,  0.        ,  0.        ],\n",
       "         [ 0.        ,  0.        , 12.81751843,  2.68112314,  0.        ,\n",
       "          12.16870902,  0.14925804,  0.        ],\n",
       "         [ 0.        ,  1.88825098, 15.28568471,  8.88809412,  9.0022149 ,\n",
       "          15.01583059, 10.60648157,  0.        ],\n",
       "         [ 0.        ,  0.0538102 ,  3.93788235,  5.52395294,  5.42320941,\n",
       "          12.15588392,  4.15824314,  0.        ],\n",
       "         [ 0.        ,  0.        ,  0.        ,  0.        ,  0.        ,\n",
       "           8.58699294,  6.08318745,  0.        ],\n",
       "         [ 0.        ,  0.        ,  0.        ,  0.        ,  0.        ,\n",
       "           2.00995137,  2.23831843,  0.        ]])]}"
      ]
     },
     "execution_count": 239,
     "metadata": {},
     "output_type": "execute_result"
    }
   ],
   "source": [
    "# show appended data\n",
    "data"
   ]
  },
  {
   "cell_type": "code",
   "execution_count": null,
   "metadata": {},
   "outputs": [],
   "source": []
  }
 ],
 "metadata": {
  "interpreter": {
   "hash": "1850d8fdad53951039198cf078678353ec8240d46654b6223c5cdccca450a5fc"
  },
  "kernelspec": {
   "display_name": "Python 3.8.5 64-bit ('base': conda)",
   "name": "python3"
  },
  "language_info": {
   "codemirror_mode": {
    "name": "ipython",
    "version": 3
   },
   "file_extension": ".py",
   "mimetype": "text/x-python",
   "name": "python",
   "nbconvert_exporter": "python",
   "pygments_lexer": "ipython3",
   "version": "3.8.5"
  },
  "orig_nbformat": 4
 },
 "nbformat": 4,
 "nbformat_minor": 2
}
